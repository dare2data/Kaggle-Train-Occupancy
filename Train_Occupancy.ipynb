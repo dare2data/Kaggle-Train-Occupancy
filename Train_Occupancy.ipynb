{
 "cells": [
  {
   "cell_type": "code",
   "execution_count": 1,
   "metadata": {
    "collapsed": true
   },
   "outputs": [],
   "source": [
    "import pandas as pd\n",
    "import numpy as np\n",
    "\n",
    "import matplotlib.pyplot as plt\n",
    "import seaborn as sns\n",
    "%matplotlib inline\n",
    "\n",
    "import warnings\n",
    "warnings.filterwarnings(\"ignore\")\n",
    "\n",
    "from IPython.core.interactiveshell import InteractiveShell\n",
    "InteractiveShell.ast_node_interactivity = \"all\""
   ]
  },
  {
   "cell_type": "code",
   "execution_count": 2,
   "metadata": {
    "collapsed": true
   },
   "outputs": [],
   "source": [
    "train=pd.read_csv('/home/ashwani/Desktop/Python/DataSet/train/trains_train.csv')\n",
    "test=pd.read_csv('/home/ashwani/Desktop/Python/DataSet/train/trains_test.csv')"
   ]
  },
  {
   "cell_type": "code",
   "execution_count": 3,
   "metadata": {},
   "outputs": [
    {
     "data": {
      "text/html": [
       "<div>\n",
       "<table border=\"1\" class=\"dataframe\">\n",
       "  <thead>\n",
       "    <tr style=\"text-align: right;\">\n",
       "      <th></th>\n",
       "      <th>date</th>\n",
       "      <th>time</th>\n",
       "      <th>connection</th>\n",
       "      <th>from</th>\n",
       "      <th>to</th>\n",
       "      <th>vehicle</th>\n",
       "    </tr>\n",
       "  </thead>\n",
       "  <tbody>\n",
       "    <tr>\n",
       "      <th>0</th>\n",
       "      <td>2016-10-29</td>\n",
       "      <td>08:55:57 AM</td>\n",
       "      <td>8833209/20161029/IC2929</td>\n",
       "      <td>8833209</td>\n",
       "      <td>8821832</td>\n",
       "      <td>IC2929</td>\n",
       "    </tr>\n",
       "    <tr>\n",
       "      <th>1</th>\n",
       "      <td>2016-10-29</td>\n",
       "      <td>08:56:07 AM</td>\n",
       "      <td>8821600/20161029/IC2929</td>\n",
       "      <td>8821600</td>\n",
       "      <td>8821121</td>\n",
       "      <td>IC2929</td>\n",
       "    </tr>\n",
       "    <tr>\n",
       "      <th>2</th>\n",
       "      <td>2016-10-29</td>\n",
       "      <td>09:14:01 AM</td>\n",
       "      <td>8821600/20161029/IC2929</td>\n",
       "      <td>8821600</td>\n",
       "      <td>8821121</td>\n",
       "      <td>IC2929</td>\n",
       "    </tr>\n",
       "    <tr>\n",
       "      <th>3</th>\n",
       "      <td>2016-10-29</td>\n",
       "      <td>09:14:45 AM</td>\n",
       "      <td>8892007/20161029/IC1530</td>\n",
       "      <td>8892007</td>\n",
       "      <td>8891140</td>\n",
       "      <td>IC1530</td>\n",
       "    </tr>\n",
       "    <tr>\n",
       "      <th>4</th>\n",
       "      <td>2016-10-29</td>\n",
       "      <td>10:17:59 AM</td>\n",
       "      <td>8891140/20161029/IC1510</td>\n",
       "      <td>8891140</td>\n",
       "      <td>8892007</td>\n",
       "      <td>IC1510</td>\n",
       "    </tr>\n",
       "  </tbody>\n",
       "</table>\n",
       "</div>"
      ],
      "text/plain": [
       "         date         time               connection     from       to vehicle\n",
       "0  2016-10-29  08:55:57 AM  8833209/20161029/IC2929  8833209  8821832  IC2929\n",
       "1  2016-10-29  08:56:07 AM  8821600/20161029/IC2929  8821600  8821121  IC2929\n",
       "2  2016-10-29  09:14:01 AM  8821600/20161029/IC2929  8821600  8821121  IC2929\n",
       "3  2016-10-29  09:14:45 AM  8892007/20161029/IC1530  8892007  8891140  IC1530\n",
       "4  2016-10-29  10:17:59 AM  8891140/20161029/IC1510  8891140  8892007  IC1510"
      ]
     },
     "execution_count": 3,
     "metadata": {},
     "output_type": "execute_result"
    },
    {
     "data": {
      "text/plain": [
       "((2250, 7), (1529, 6))"
      ]
     },
     "execution_count": 3,
     "metadata": {},
     "output_type": "execute_result"
    }
   ],
   "source": [
    "test.head()\n",
    "train.shape, test.shape"
   ]
  },
  {
   "cell_type": "code",
   "execution_count": 4,
   "metadata": {},
   "outputs": [
    {
     "data": {
      "text/plain": [
       "date          0\n",
       "time          0\n",
       "connection    0\n",
       "from          0\n",
       "to            0\n",
       "vehicle       0\n",
       "occupancy     0\n",
       "dtype: int64"
      ]
     },
     "execution_count": 4,
     "metadata": {},
     "output_type": "execute_result"
    }
   ],
   "source": [
    "train.isnull().sum()"
   ]
  },
  {
   "cell_type": "code",
   "execution_count": 5,
   "metadata": {
    "collapsed": true
   },
   "outputs": [],
   "source": [
    "train_con= pd.DataFrame(train.connection.str.split('/',2).tolist(),\n",
    "                                  columns = ['frm','mid','vech'])"
   ]
  },
  {
   "cell_type": "code",
   "execution_count": 7,
   "metadata": {},
   "outputs": [
    {
     "data": {
      "text/html": [
       "<div>\n",
       "<table border=\"1\" class=\"dataframe\">\n",
       "  <thead>\n",
       "    <tr style=\"text-align: right;\">\n",
       "      <th></th>\n",
       "      <th>date</th>\n",
       "      <th>time</th>\n",
       "      <th>connection</th>\n",
       "      <th>from</th>\n",
       "      <th>to</th>\n",
       "      <th>vehicle</th>\n",
       "      <th>occupancy</th>\n",
       "    </tr>\n",
       "  </thead>\n",
       "  <tbody>\n",
       "    <tr>\n",
       "      <th>0</th>\n",
       "      <td>2016-07-27</td>\n",
       "      <td>08:05:51 PM</td>\n",
       "      <td>8813003/20160727/IC1518</td>\n",
       "      <td>008813003</td>\n",
       "      <td>000000000</td>\n",
       "      <td>IC1518</td>\n",
       "      <td>high</td>\n",
       "    </tr>\n",
       "    <tr>\n",
       "      <th>1</th>\n",
       "      <td>2016-07-27</td>\n",
       "      <td>08:06:11 PM</td>\n",
       "      <td>8813003/20160727/IC1518</td>\n",
       "      <td>008813003</td>\n",
       "      <td>000000000</td>\n",
       "      <td>IC1518</td>\n",
       "      <td>high</td>\n",
       "    </tr>\n",
       "    <tr>\n",
       "      <th>2</th>\n",
       "      <td>2016-07-27</td>\n",
       "      <td>08:08:57 PM</td>\n",
       "      <td>8813003/20160727/IC1518</td>\n",
       "      <td>008813003</td>\n",
       "      <td>000000000</td>\n",
       "      <td>IC1518</td>\n",
       "      <td>high</td>\n",
       "    </tr>\n",
       "    <tr>\n",
       "      <th>3</th>\n",
       "      <td>2016-07-27</td>\n",
       "      <td>08:09:08 PM</td>\n",
       "      <td>8813003/20160727/IC1518</td>\n",
       "      <td>008813003</td>\n",
       "      <td>000000000</td>\n",
       "      <td>IC1518</td>\n",
       "      <td>high</td>\n",
       "    </tr>\n",
       "    <tr>\n",
       "      <th>4</th>\n",
       "      <td>2016-07-27</td>\n",
       "      <td>08:11:01 PM</td>\n",
       "      <td>8813003/20160727/IC1518</td>\n",
       "      <td>008813003</td>\n",
       "      <td>000000000</td>\n",
       "      <td>IC1518</td>\n",
       "      <td>high</td>\n",
       "    </tr>\n",
       "  </tbody>\n",
       "</table>\n",
       "</div>"
      ],
      "text/plain": [
       "         date         time               connection       from         to  \\\n",
       "0  2016-07-27  08:05:51 PM  8813003/20160727/IC1518  008813003  000000000   \n",
       "1  2016-07-27  08:06:11 PM  8813003/20160727/IC1518  008813003  000000000   \n",
       "2  2016-07-27  08:08:57 PM  8813003/20160727/IC1518  008813003  000000000   \n",
       "3  2016-07-27  08:09:08 PM  8813003/20160727/IC1518  008813003  000000000   \n",
       "4  2016-07-27  08:11:01 PM  8813003/20160727/IC1518  008813003  000000000   \n",
       "\n",
       "  vehicle occupancy  \n",
       "0  IC1518      high  \n",
       "1  IC1518      high  \n",
       "2  IC1518      high  \n",
       "3  IC1518      high  \n",
       "4  IC1518      high  "
      ]
     },
     "execution_count": 7,
     "metadata": {},
     "output_type": "execute_result"
    },
    {
     "data": {
      "text/html": [
       "<div>\n",
       "<table border=\"1\" class=\"dataframe\">\n",
       "  <thead>\n",
       "    <tr style=\"text-align: right;\">\n",
       "      <th></th>\n",
       "      <th>date</th>\n",
       "      <th>time</th>\n",
       "      <th>connection</th>\n",
       "      <th>from</th>\n",
       "      <th>to</th>\n",
       "      <th>vehicle</th>\n",
       "    </tr>\n",
       "  </thead>\n",
       "  <tbody>\n",
       "    <tr>\n",
       "      <th>0</th>\n",
       "      <td>2016-10-29</td>\n",
       "      <td>08:55:57 AM</td>\n",
       "      <td>8833209/20161029/IC2929</td>\n",
       "      <td>8833209</td>\n",
       "      <td>8821832</td>\n",
       "      <td>IC2929</td>\n",
       "    </tr>\n",
       "    <tr>\n",
       "      <th>1</th>\n",
       "      <td>2016-10-29</td>\n",
       "      <td>08:56:07 AM</td>\n",
       "      <td>8821600/20161029/IC2929</td>\n",
       "      <td>8821600</td>\n",
       "      <td>8821121</td>\n",
       "      <td>IC2929</td>\n",
       "    </tr>\n",
       "    <tr>\n",
       "      <th>2</th>\n",
       "      <td>2016-10-29</td>\n",
       "      <td>09:14:01 AM</td>\n",
       "      <td>8821600/20161029/IC2929</td>\n",
       "      <td>8821600</td>\n",
       "      <td>8821121</td>\n",
       "      <td>IC2929</td>\n",
       "    </tr>\n",
       "    <tr>\n",
       "      <th>3</th>\n",
       "      <td>2016-10-29</td>\n",
       "      <td>09:14:45 AM</td>\n",
       "      <td>8892007/20161029/IC1530</td>\n",
       "      <td>8892007</td>\n",
       "      <td>8891140</td>\n",
       "      <td>IC1530</td>\n",
       "    </tr>\n",
       "    <tr>\n",
       "      <th>4</th>\n",
       "      <td>2016-10-29</td>\n",
       "      <td>10:17:59 AM</td>\n",
       "      <td>8891140/20161029/IC1510</td>\n",
       "      <td>8891140</td>\n",
       "      <td>8892007</td>\n",
       "      <td>IC1510</td>\n",
       "    </tr>\n",
       "  </tbody>\n",
       "</table>\n",
       "</div>"
      ],
      "text/plain": [
       "         date         time               connection     from       to vehicle\n",
       "0  2016-10-29  08:55:57 AM  8833209/20161029/IC2929  8833209  8821832  IC2929\n",
       "1  2016-10-29  08:56:07 AM  8821600/20161029/IC2929  8821600  8821121  IC2929\n",
       "2  2016-10-29  09:14:01 AM  8821600/20161029/IC2929  8821600  8821121  IC2929\n",
       "3  2016-10-29  09:14:45 AM  8892007/20161029/IC1530  8892007  8891140  IC1530\n",
       "4  2016-10-29  10:17:59 AM  8891140/20161029/IC1510  8891140  8892007  IC1510"
      ]
     },
     "execution_count": 7,
     "metadata": {},
     "output_type": "execute_result"
    }
   ],
   "source": [
    "train.head()\n",
    "test.head()"
   ]
  },
  {
   "cell_type": "code",
   "execution_count": 8,
   "metadata": {
    "collapsed": true
   },
   "outputs": [],
   "source": [
    "train=train.drop(['vehicle'], axis=1)\n",
    "train['vehicle']=train_con.vech"
   ]
  },
  {
   "cell_type": "code",
   "execution_count": 9,
   "metadata": {
    "collapsed": true
   },
   "outputs": [],
   "source": [
    "test_con= pd.DataFrame(test.connection.str.split('/',2).tolist(),\n",
    "                                  columns = ['frm','mid','vech'])"
   ]
  },
  {
   "cell_type": "code",
   "execution_count": 10,
   "metadata": {},
   "outputs": [
    {
     "data": {
      "text/html": [
       "<div>\n",
       "<table border=\"1\" class=\"dataframe\">\n",
       "  <thead>\n",
       "    <tr style=\"text-align: right;\">\n",
       "      <th></th>\n",
       "      <th>frm</th>\n",
       "      <th>mid</th>\n",
       "      <th>vech</th>\n",
       "    </tr>\n",
       "  </thead>\n",
       "  <tbody>\n",
       "    <tr>\n",
       "      <th>0</th>\n",
       "      <td>8833209</td>\n",
       "      <td>20161029</td>\n",
       "      <td>IC2929</td>\n",
       "    </tr>\n",
       "    <tr>\n",
       "      <th>1</th>\n",
       "      <td>8821600</td>\n",
       "      <td>20161029</td>\n",
       "      <td>IC2929</td>\n",
       "    </tr>\n",
       "    <tr>\n",
       "      <th>2</th>\n",
       "      <td>8821600</td>\n",
       "      <td>20161029</td>\n",
       "      <td>IC2929</td>\n",
       "    </tr>\n",
       "    <tr>\n",
       "      <th>3</th>\n",
       "      <td>8892007</td>\n",
       "      <td>20161029</td>\n",
       "      <td>IC1530</td>\n",
       "    </tr>\n",
       "    <tr>\n",
       "      <th>4</th>\n",
       "      <td>8891140</td>\n",
       "      <td>20161029</td>\n",
       "      <td>IC1510</td>\n",
       "    </tr>\n",
       "  </tbody>\n",
       "</table>\n",
       "</div>"
      ],
      "text/plain": [
       "       frm       mid    vech\n",
       "0  8833209  20161029  IC2929\n",
       "1  8821600  20161029  IC2929\n",
       "2  8821600  20161029  IC2929\n",
       "3  8892007  20161029  IC1530\n",
       "4  8891140  20161029  IC1510"
      ]
     },
     "execution_count": 10,
     "metadata": {},
     "output_type": "execute_result"
    }
   ],
   "source": [
    "test_con.head()"
   ]
  },
  {
   "cell_type": "code",
   "execution_count": 11,
   "metadata": {
    "collapsed": true
   },
   "outputs": [],
   "source": [
    "test=test.drop(['vehicle'], axis=1)\n",
    "test['vehicle']=test_con.vech"
   ]
  },
  {
   "cell_type": "code",
   "execution_count": 12,
   "metadata": {},
   "outputs": [
    {
     "data": {
      "text/html": [
       "<div>\n",
       "<table border=\"1\" class=\"dataframe\">\n",
       "  <thead>\n",
       "    <tr style=\"text-align: right;\">\n",
       "      <th></th>\n",
       "      <th>date</th>\n",
       "      <th>time</th>\n",
       "      <th>connection</th>\n",
       "      <th>from</th>\n",
       "      <th>to</th>\n",
       "      <th>vehicle</th>\n",
       "    </tr>\n",
       "  </thead>\n",
       "  <tbody>\n",
       "    <tr>\n",
       "      <th>0</th>\n",
       "      <td>2016-10-29</td>\n",
       "      <td>08:55:57 AM</td>\n",
       "      <td>8833209/20161029/IC2929</td>\n",
       "      <td>8833209</td>\n",
       "      <td>8821832</td>\n",
       "      <td>IC2929</td>\n",
       "    </tr>\n",
       "    <tr>\n",
       "      <th>1</th>\n",
       "      <td>2016-10-29</td>\n",
       "      <td>08:56:07 AM</td>\n",
       "      <td>8821600/20161029/IC2929</td>\n",
       "      <td>8821600</td>\n",
       "      <td>8821121</td>\n",
       "      <td>IC2929</td>\n",
       "    </tr>\n",
       "    <tr>\n",
       "      <th>2</th>\n",
       "      <td>2016-10-29</td>\n",
       "      <td>09:14:01 AM</td>\n",
       "      <td>8821600/20161029/IC2929</td>\n",
       "      <td>8821600</td>\n",
       "      <td>8821121</td>\n",
       "      <td>IC2929</td>\n",
       "    </tr>\n",
       "    <tr>\n",
       "      <th>3</th>\n",
       "      <td>2016-10-29</td>\n",
       "      <td>09:14:45 AM</td>\n",
       "      <td>8892007/20161029/IC1530</td>\n",
       "      <td>8892007</td>\n",
       "      <td>8891140</td>\n",
       "      <td>IC1530</td>\n",
       "    </tr>\n",
       "    <tr>\n",
       "      <th>4</th>\n",
       "      <td>2016-10-29</td>\n",
       "      <td>10:17:59 AM</td>\n",
       "      <td>8891140/20161029/IC1510</td>\n",
       "      <td>8891140</td>\n",
       "      <td>8892007</td>\n",
       "      <td>IC1510</td>\n",
       "    </tr>\n",
       "  </tbody>\n",
       "</table>\n",
       "</div>"
      ],
      "text/plain": [
       "         date         time               connection     from       to vehicle\n",
       "0  2016-10-29  08:55:57 AM  8833209/20161029/IC2929  8833209  8821832  IC2929\n",
       "1  2016-10-29  08:56:07 AM  8821600/20161029/IC2929  8821600  8821121  IC2929\n",
       "2  2016-10-29  09:14:01 AM  8821600/20161029/IC2929  8821600  8821121  IC2929\n",
       "3  2016-10-29  09:14:45 AM  8892007/20161029/IC1530  8892007  8891140  IC1530\n",
       "4  2016-10-29  10:17:59 AM  8891140/20161029/IC1510  8891140  8892007  IC1510"
      ]
     },
     "execution_count": 12,
     "metadata": {},
     "output_type": "execute_result"
    }
   ],
   "source": [
    "test.head()"
   ]
  },
  {
   "cell_type": "code",
   "execution_count": 13,
   "metadata": {
    "collapsed": true
   },
   "outputs": [],
   "source": [
    "import re\n",
    "train['from']=[re.sub('^[0]{0,2}','',data) for data in train['from']]\n",
    "train['to']=[re.sub('^[0]{0,2}','',data) for data in train['to']]"
   ]
  },
  {
   "cell_type": "code",
   "execution_count": 14,
   "metadata": {},
   "outputs": [
    {
     "data": {
      "text/plain": [
       "'8892007'"
      ]
     },
     "execution_count": 14,
     "metadata": {},
     "output_type": "execute_result"
    }
   ],
   "source": [
    "train['from'].mode()[0]\n",
    "train.loc[train['from']=='(null)','from']=8892007\n",
    "train.loc[train['to']=='(null)','to']=0"
   ]
  },
  {
   "cell_type": "code",
   "execution_count": 15,
   "metadata": {
    "collapsed": true
   },
   "outputs": [],
   "source": [
    "train['from']=train['from'].astype('int')\n",
    "test['from']=test['from'].astype('int')\n",
    "train['to']=train['to'].astype('int')\n",
    "test['to']=test['to'].astype('int')"
   ]
  },
  {
   "cell_type": "code",
   "execution_count": 16,
   "metadata": {
    "collapsed": true
   },
   "outputs": [],
   "source": [
    "#train[train['vehicle']=='IC1518']\n",
    "train.loc[train['to']==0, 'to']=8831765"
   ]
  },
  {
   "cell_type": "code",
   "execution_count": 17,
   "metadata": {},
   "outputs": [
    {
     "data": {
      "text/plain": [
       "((2250, 7), (1529, 6))"
      ]
     },
     "execution_count": 17,
     "metadata": {},
     "output_type": "execute_result"
    }
   ],
   "source": [
    "train.shape, test.shape"
   ]
  },
  {
   "cell_type": "code",
   "execution_count": 18,
   "metadata": {},
   "outputs": [
    {
     "data": {
      "text/plain": [
       "date          object\n",
       "time          object\n",
       "connection    object\n",
       "from           int64\n",
       "to             int64\n",
       "occupancy     object\n",
       "vehicle       object\n",
       "dtype: object"
      ]
     },
     "execution_count": 18,
     "metadata": {},
     "output_type": "execute_result"
    }
   ],
   "source": [
    "train.dtypes"
   ]
  },
  {
   "cell_type": "code",
   "execution_count": 19,
   "metadata": {
    "collapsed": true
   },
   "outputs": [],
   "source": [
    "train['date']=pd.to_datetime(train['date'])\n",
    "train['month'] = train['date'].dt.month\n",
    "train['days_week']=train['date'].dt.dayofweek\n",
    "train['week_day'] = train['date']. dt.weekday_name\n",
    "train['day'] = train['date'].dt.day\n",
    "train['time']=pd.to_datetime(train.time)\n",
    "train['seconds']=train['time'].dt.second\n",
    "train['hour']=train['time'].dt.hour\n",
    "train['minutes']=train['time'].dt.minute\n",
    "train['hour_minutes']=train['hour']*60+ train['minutes']+train['seconds']/60"
   ]
  },
  {
   "cell_type": "code",
   "execution_count": 20,
   "metadata": {
    "collapsed": true
   },
   "outputs": [],
   "source": [
    "test['date']=pd.to_datetime(test['date'])\n",
    "test['month'] = test.date.dt.month\n",
    "test['days_week']=test.date.dt.dayofweek\n",
    "test['week_day'] = test.date.dt.weekday_name\n",
    "test['day'] = test['date'].dt.day\n",
    "test.time=pd.to_datetime(test.time)\n",
    "test['seconds']=test['time'].dt.second\n",
    "test['hour']=test['time'].dt.hour\n",
    "test['minutes']=test['time'].dt.minute\n",
    "\n",
    "test['hour_minutes']=test['hour']*60+ test['minutes']+test['seconds']/60"
   ]
  },
  {
   "cell_type": "code",
   "execution_count": 21,
   "metadata": {},
   "outputs": [
    {
     "data": {
      "text/html": [
       "<div>\n",
       "<table border=\"1\" class=\"dataframe\">\n",
       "  <thead>\n",
       "    <tr style=\"text-align: right;\">\n",
       "      <th></th>\n",
       "      <th>date</th>\n",
       "      <th>time</th>\n",
       "      <th>connection</th>\n",
       "      <th>from</th>\n",
       "      <th>to</th>\n",
       "      <th>occupancy</th>\n",
       "      <th>vehicle</th>\n",
       "      <th>month</th>\n",
       "      <th>days_week</th>\n",
       "      <th>week_day</th>\n",
       "      <th>day</th>\n",
       "      <th>seconds</th>\n",
       "      <th>hour</th>\n",
       "      <th>minutes</th>\n",
       "      <th>hour_minutes</th>\n",
       "    </tr>\n",
       "  </thead>\n",
       "  <tbody>\n",
       "    <tr>\n",
       "      <th>0</th>\n",
       "      <td>2016-07-27</td>\n",
       "      <td>2017-10-18 20:05:51</td>\n",
       "      <td>8813003/20160727/IC1518</td>\n",
       "      <td>8813003</td>\n",
       "      <td>8831765</td>\n",
       "      <td>high</td>\n",
       "      <td>IC1518</td>\n",
       "      <td>7</td>\n",
       "      <td>2</td>\n",
       "      <td>Wednesday</td>\n",
       "      <td>27</td>\n",
       "      <td>51</td>\n",
       "      <td>20</td>\n",
       "      <td>5</td>\n",
       "      <td>1205.850000</td>\n",
       "    </tr>\n",
       "    <tr>\n",
       "      <th>1</th>\n",
       "      <td>2016-07-27</td>\n",
       "      <td>2017-10-18 20:06:11</td>\n",
       "      <td>8813003/20160727/IC1518</td>\n",
       "      <td>8813003</td>\n",
       "      <td>8831765</td>\n",
       "      <td>high</td>\n",
       "      <td>IC1518</td>\n",
       "      <td>7</td>\n",
       "      <td>2</td>\n",
       "      <td>Wednesday</td>\n",
       "      <td>27</td>\n",
       "      <td>11</td>\n",
       "      <td>20</td>\n",
       "      <td>6</td>\n",
       "      <td>1206.183333</td>\n",
       "    </tr>\n",
       "    <tr>\n",
       "      <th>2</th>\n",
       "      <td>2016-07-27</td>\n",
       "      <td>2017-10-18 20:08:57</td>\n",
       "      <td>8813003/20160727/IC1518</td>\n",
       "      <td>8813003</td>\n",
       "      <td>8831765</td>\n",
       "      <td>high</td>\n",
       "      <td>IC1518</td>\n",
       "      <td>7</td>\n",
       "      <td>2</td>\n",
       "      <td>Wednesday</td>\n",
       "      <td>27</td>\n",
       "      <td>57</td>\n",
       "      <td>20</td>\n",
       "      <td>8</td>\n",
       "      <td>1208.950000</td>\n",
       "    </tr>\n",
       "    <tr>\n",
       "      <th>3</th>\n",
       "      <td>2016-07-27</td>\n",
       "      <td>2017-10-18 20:09:08</td>\n",
       "      <td>8813003/20160727/IC1518</td>\n",
       "      <td>8813003</td>\n",
       "      <td>8831765</td>\n",
       "      <td>high</td>\n",
       "      <td>IC1518</td>\n",
       "      <td>7</td>\n",
       "      <td>2</td>\n",
       "      <td>Wednesday</td>\n",
       "      <td>27</td>\n",
       "      <td>8</td>\n",
       "      <td>20</td>\n",
       "      <td>9</td>\n",
       "      <td>1209.133333</td>\n",
       "    </tr>\n",
       "    <tr>\n",
       "      <th>4</th>\n",
       "      <td>2016-07-27</td>\n",
       "      <td>2017-10-18 20:11:01</td>\n",
       "      <td>8813003/20160727/IC1518</td>\n",
       "      <td>8813003</td>\n",
       "      <td>8831765</td>\n",
       "      <td>high</td>\n",
       "      <td>IC1518</td>\n",
       "      <td>7</td>\n",
       "      <td>2</td>\n",
       "      <td>Wednesday</td>\n",
       "      <td>27</td>\n",
       "      <td>1</td>\n",
       "      <td>20</td>\n",
       "      <td>11</td>\n",
       "      <td>1211.016667</td>\n",
       "    </tr>\n",
       "  </tbody>\n",
       "</table>\n",
       "</div>"
      ],
      "text/plain": [
       "        date                time               connection     from       to  \\\n",
       "0 2016-07-27 2017-10-18 20:05:51  8813003/20160727/IC1518  8813003  8831765   \n",
       "1 2016-07-27 2017-10-18 20:06:11  8813003/20160727/IC1518  8813003  8831765   \n",
       "2 2016-07-27 2017-10-18 20:08:57  8813003/20160727/IC1518  8813003  8831765   \n",
       "3 2016-07-27 2017-10-18 20:09:08  8813003/20160727/IC1518  8813003  8831765   \n",
       "4 2016-07-27 2017-10-18 20:11:01  8813003/20160727/IC1518  8813003  8831765   \n",
       "\n",
       "  occupancy vehicle  month  days_week   week_day  day  seconds  hour  minutes  \\\n",
       "0      high  IC1518      7          2  Wednesday   27       51    20        5   \n",
       "1      high  IC1518      7          2  Wednesday   27       11    20        6   \n",
       "2      high  IC1518      7          2  Wednesday   27       57    20        8   \n",
       "3      high  IC1518      7          2  Wednesday   27        8    20        9   \n",
       "4      high  IC1518      7          2  Wednesday   27        1    20       11   \n",
       "\n",
       "   hour_minutes  \n",
       "0   1205.850000  \n",
       "1   1206.183333  \n",
       "2   1208.950000  \n",
       "3   1209.133333  \n",
       "4   1211.016667  "
      ]
     },
     "execution_count": 21,
     "metadata": {},
     "output_type": "execute_result"
    }
   ],
   "source": [
    "train.head()"
   ]
  },
  {
   "cell_type": "code",
   "execution_count": 22,
   "metadata": {},
   "outputs": [
    {
     "data": {
      "text/html": [
       "<div>\n",
       "<table border=\"1\" class=\"dataframe\">\n",
       "  <thead>\n",
       "    <tr style=\"text-align: right;\">\n",
       "      <th></th>\n",
       "      <th>week_day</th>\n",
       "      <th>month</th>\n",
       "      <th>day</th>\n",
       "      <th>from</th>\n",
       "      <th>to</th>\n",
       "      <th>vehicle</th>\n",
       "      <th>hour_minutes</th>\n",
       "      <th>occupancy</th>\n",
       "    </tr>\n",
       "  </thead>\n",
       "  <tbody>\n",
       "    <tr>\n",
       "      <th>3774</th>\n",
       "      <td>Monday</td>\n",
       "      <td>12</td>\n",
       "      <td>19</td>\n",
       "      <td>8892007</td>\n",
       "      <td>8893120</td>\n",
       "      <td>IC1806</td>\n",
       "      <td>349.383333</td>\n",
       "      <td>NaN</td>\n",
       "    </tr>\n",
       "    <tr>\n",
       "      <th>3775</th>\n",
       "      <td>Monday</td>\n",
       "      <td>12</td>\n",
       "      <td>19</td>\n",
       "      <td>8821006</td>\n",
       "      <td>8813003</td>\n",
       "      <td>IC2028</td>\n",
       "      <td>390.200000</td>\n",
       "      <td>NaN</td>\n",
       "    </tr>\n",
       "    <tr>\n",
       "      <th>3776</th>\n",
       "      <td>Monday</td>\n",
       "      <td>12</td>\n",
       "      <td>19</td>\n",
       "      <td>8833308</td>\n",
       "      <td>8833001</td>\n",
       "      <td>IC1728</td>\n",
       "      <td>390.366667</td>\n",
       "      <td>NaN</td>\n",
       "    </tr>\n",
       "    <tr>\n",
       "      <th>3777</th>\n",
       "      <td>Monday</td>\n",
       "      <td>12</td>\n",
       "      <td>19</td>\n",
       "      <td>8814001</td>\n",
       "      <td>8813003</td>\n",
       "      <td>P7801</td>\n",
       "      <td>447.700000</td>\n",
       "      <td>NaN</td>\n",
       "    </tr>\n",
       "    <tr>\n",
       "      <th>3778</th>\n",
       "      <td>Monday</td>\n",
       "      <td>12</td>\n",
       "      <td>19</td>\n",
       "      <td>8814167</td>\n",
       "      <td>8814001</td>\n",
       "      <td>P7723</td>\n",
       "      <td>482.850000</td>\n",
       "      <td>NaN</td>\n",
       "    </tr>\n",
       "  </tbody>\n",
       "</table>\n",
       "</div>"
      ],
      "text/plain": [
       "     week_day  month  day     from       to vehicle  hour_minutes occupancy\n",
       "3774   Monday     12   19  8892007  8893120  IC1806    349.383333       NaN\n",
       "3775   Monday     12   19  8821006  8813003  IC2028    390.200000       NaN\n",
       "3776   Monday     12   19  8833308  8833001  IC1728    390.366667       NaN\n",
       "3777   Monday     12   19  8814001  8813003   P7801    447.700000       NaN\n",
       "3778   Monday     12   19  8814167  8814001   P7723    482.850000       NaN"
      ]
     },
     "execution_count": 22,
     "metadata": {},
     "output_type": "execute_result"
    }
   ],
   "source": [
    "x=train.loc[:, ['week_day','month','day','from', 'to','vehicle','hour_minutes','occupancy']]\n",
    "y=test.loc[:, ['week_day','month','day','from', 'to','vehicle','hour_minutes','occupancy']]\n",
    "\n",
    "final=x.append(y, ignore_index=True)\n",
    "final.tail()"
   ]
  },
  {
   "cell_type": "code",
   "execution_count": 23,
   "metadata": {
    "collapsed": true
   },
   "outputs": [],
   "source": [
    "line=pd.read_csv('/home/ashwani/Desktop/Python/DataSet/train/KaggleTrainOccupancy-master/line_info.csv')"
   ]
  },
  {
   "cell_type": "code",
   "execution_count": 24,
   "metadata": {},
   "outputs": [
    {
     "data": {
      "text/html": [
       "<div>\n",
       "<table border=\"1\" class=\"dataframe\">\n",
       "  <thead>\n",
       "    <tr style=\"text-align: right;\">\n",
       "      <th></th>\n",
       "      <th>Unnamed: 0</th>\n",
       "      <th>Unnamed: 0.1</th>\n",
       "      <th>Unnamed: 0.1.1</th>\n",
       "      <th>vehicle_id</th>\n",
       "      <th>vehicle_type</th>\n",
       "      <th>nr_of_stops</th>\n",
       "      <th>stopping_station_ids</th>\n",
       "    </tr>\n",
       "  </thead>\n",
       "  <tbody>\n",
       "    <tr>\n",
       "      <th>0</th>\n",
       "      <td>0</td>\n",
       "      <td>0</td>\n",
       "      <td>0</td>\n",
       "      <td>EUR9148</td>\n",
       "      <td>EUR</td>\n",
       "      <td>3</td>\n",
       "      <td>['007015400', '008722326', '008814001']</td>\n",
       "    </tr>\n",
       "    <tr>\n",
       "      <th>1</th>\n",
       "      <td>1</td>\n",
       "      <td>1</td>\n",
       "      <td>1</td>\n",
       "      <td>IC1504</td>\n",
       "      <td>IC</td>\n",
       "      <td>15</td>\n",
       "      <td>['008891009', '008891140', '008892007', '00881...</td>\n",
       "    </tr>\n",
       "    <tr>\n",
       "      <th>2</th>\n",
       "      <td>2</td>\n",
       "      <td>2</td>\n",
       "      <td>2</td>\n",
       "      <td>IC1505</td>\n",
       "      <td>IC</td>\n",
       "      <td>16</td>\n",
       "      <td>['008891405', '008891009', '008891140', '00889...</td>\n",
       "    </tr>\n",
       "    <tr>\n",
       "      <th>3</th>\n",
       "      <td>3</td>\n",
       "      <td>3</td>\n",
       "      <td>3</td>\n",
       "      <td>IC1506</td>\n",
       "      <td>IC</td>\n",
       "      <td>16</td>\n",
       "      <td>['008891405', '008891009', '008891140', '00889...</td>\n",
       "    </tr>\n",
       "    <tr>\n",
       "      <th>4</th>\n",
       "      <td>4</td>\n",
       "      <td>4</td>\n",
       "      <td>4</td>\n",
       "      <td>IC1507</td>\n",
       "      <td>IC</td>\n",
       "      <td>16</td>\n",
       "      <td>['008891405', '008891009', '008891140', '00889...</td>\n",
       "    </tr>\n",
       "  </tbody>\n",
       "</table>\n",
       "</div>"
      ],
      "text/plain": [
       "   Unnamed: 0  Unnamed: 0.1  Unnamed: 0.1.1 vehicle_id vehicle_type  \\\n",
       "0           0             0               0    EUR9148          EUR   \n",
       "1           1             1               1     IC1504           IC   \n",
       "2           2             2               2     IC1505           IC   \n",
       "3           3             3               3     IC1506           IC   \n",
       "4           4             4               4     IC1507           IC   \n",
       "\n",
       "   nr_of_stops                               stopping_station_ids  \n",
       "0            3            ['007015400', '008722326', '008814001']  \n",
       "1           15  ['008891009', '008891140', '008892007', '00881...  \n",
       "2           16  ['008891405', '008891009', '008891140', '00889...  \n",
       "3           16  ['008891405', '008891009', '008891140', '00889...  \n",
       "4           16  ['008891405', '008891009', '008891140', '00889...  "
      ]
     },
     "execution_count": 24,
     "metadata": {},
     "output_type": "execute_result"
    }
   ],
   "source": [
    "line.head()"
   ]
  },
  {
   "cell_type": "code",
   "execution_count": 25,
   "metadata": {
    "collapsed": true
   },
   "outputs": [],
   "source": [
    "final_new = pd.merge(final,line.iloc[:,[3,4,5]], how = 'left', left_on= 'vehicle', right_on= 'vehicle_id')"
   ]
  },
  {
   "cell_type": "code",
   "execution_count": 26,
   "metadata": {},
   "outputs": [
    {
     "data": {
      "text/html": [
       "<div>\n",
       "<table border=\"1\" class=\"dataframe\">\n",
       "  <thead>\n",
       "    <tr style=\"text-align: right;\">\n",
       "      <th></th>\n",
       "      <th>week_day</th>\n",
       "      <th>month</th>\n",
       "      <th>day</th>\n",
       "      <th>from</th>\n",
       "      <th>to</th>\n",
       "      <th>vehicle</th>\n",
       "      <th>hour_minutes</th>\n",
       "      <th>occupancy</th>\n",
       "      <th>vehicle_id</th>\n",
       "      <th>vehicle_type</th>\n",
       "      <th>nr_of_stops</th>\n",
       "    </tr>\n",
       "  </thead>\n",
       "  <tbody>\n",
       "    <tr>\n",
       "      <th>0</th>\n",
       "      <td>Wednesday</td>\n",
       "      <td>7</td>\n",
       "      <td>27</td>\n",
       "      <td>8813003</td>\n",
       "      <td>8831765</td>\n",
       "      <td>IC1518</td>\n",
       "      <td>1205.850000</td>\n",
       "      <td>high</td>\n",
       "      <td>IC1518</td>\n",
       "      <td>IC</td>\n",
       "      <td>16.0</td>\n",
       "    </tr>\n",
       "    <tr>\n",
       "      <th>1</th>\n",
       "      <td>Wednesday</td>\n",
       "      <td>7</td>\n",
       "      <td>27</td>\n",
       "      <td>8813003</td>\n",
       "      <td>8831765</td>\n",
       "      <td>IC1518</td>\n",
       "      <td>1206.183333</td>\n",
       "      <td>high</td>\n",
       "      <td>IC1518</td>\n",
       "      <td>IC</td>\n",
       "      <td>16.0</td>\n",
       "    </tr>\n",
       "    <tr>\n",
       "      <th>2</th>\n",
       "      <td>Wednesday</td>\n",
       "      <td>7</td>\n",
       "      <td>27</td>\n",
       "      <td>8813003</td>\n",
       "      <td>8831765</td>\n",
       "      <td>IC1518</td>\n",
       "      <td>1208.950000</td>\n",
       "      <td>high</td>\n",
       "      <td>IC1518</td>\n",
       "      <td>IC</td>\n",
       "      <td>16.0</td>\n",
       "    </tr>\n",
       "    <tr>\n",
       "      <th>3</th>\n",
       "      <td>Wednesday</td>\n",
       "      <td>7</td>\n",
       "      <td>27</td>\n",
       "      <td>8813003</td>\n",
       "      <td>8831765</td>\n",
       "      <td>IC1518</td>\n",
       "      <td>1209.133333</td>\n",
       "      <td>high</td>\n",
       "      <td>IC1518</td>\n",
       "      <td>IC</td>\n",
       "      <td>16.0</td>\n",
       "    </tr>\n",
       "    <tr>\n",
       "      <th>4</th>\n",
       "      <td>Wednesday</td>\n",
       "      <td>7</td>\n",
       "      <td>27</td>\n",
       "      <td>8813003</td>\n",
       "      <td>8831765</td>\n",
       "      <td>IC1518</td>\n",
       "      <td>1211.016667</td>\n",
       "      <td>high</td>\n",
       "      <td>IC1518</td>\n",
       "      <td>IC</td>\n",
       "      <td>16.0</td>\n",
       "    </tr>\n",
       "  </tbody>\n",
       "</table>\n",
       "</div>"
      ],
      "text/plain": [
       "    week_day  month  day     from       to vehicle  hour_minutes occupancy  \\\n",
       "0  Wednesday      7   27  8813003  8831765  IC1518   1205.850000      high   \n",
       "1  Wednesday      7   27  8813003  8831765  IC1518   1206.183333      high   \n",
       "2  Wednesday      7   27  8813003  8831765  IC1518   1208.950000      high   \n",
       "3  Wednesday      7   27  8813003  8831765  IC1518   1209.133333      high   \n",
       "4  Wednesday      7   27  8813003  8831765  IC1518   1211.016667      high   \n",
       "\n",
       "  vehicle_id vehicle_type  nr_of_stops  \n",
       "0     IC1518           IC         16.0  \n",
       "1     IC1518           IC         16.0  \n",
       "2     IC1518           IC         16.0  \n",
       "3     IC1518           IC         16.0  \n",
       "4     IC1518           IC         16.0  "
      ]
     },
     "execution_count": 26,
     "metadata": {},
     "output_type": "execute_result"
    }
   ],
   "source": [
    "final_new.head()\n"
   ]
  },
  {
   "cell_type": "code",
   "execution_count": 27,
   "metadata": {
    "collapsed": true
   },
   "outputs": [],
   "source": [
    "\n",
    "final_new['vehicle_type']=final_new['vehicle_type'].fillna(final_new['vehicle_type'].dropna().mode()[0])\n"
   ]
  },
  {
   "cell_type": "code",
   "execution_count": 28,
   "metadata": {},
   "outputs": [
    {
     "data": {
      "text/plain": [
       "IC     2593\n",
       "S       540\n",
       "P       360\n",
       "L       265\n",
       "THA      14\n",
       "ICE       4\n",
       "TRN       1\n",
       "TGV       1\n",
       "EUR       1\n",
       "Name: vehicle_type, dtype: int64"
      ]
     },
     "execution_count": 28,
     "metadata": {},
     "output_type": "execute_result"
    }
   ],
   "source": [
    "final_new.vehicle_type.value_counts()"
   ]
  },
  {
   "cell_type": "code",
   "execution_count": 29,
   "metadata": {
    "collapsed": true
   },
   "outputs": [],
   "source": [
    "final_new=final_new.drop(['vehicle_id'],axis=1)"
   ]
  },
  {
   "cell_type": "code",
   "execution_count": 30,
   "metadata": {},
   "outputs": [
    {
     "data": {
      "text/plain": [
       "week_day         object\n",
       "month             int64\n",
       "day               int64\n",
       "from              int64\n",
       "to                int64\n",
       "vehicle          object\n",
       "hour_minutes    float64\n",
       "occupancy        object\n",
       "vehicle_type     object\n",
       "nr_of_stops     float64\n",
       "dtype: object"
      ]
     },
     "execution_count": 30,
     "metadata": {},
     "output_type": "execute_result"
    }
   ],
   "source": [
    "final_new.dtypes"
   ]
  },
  {
   "cell_type": "code",
   "execution_count": 31,
   "metadata": {
    "collapsed": true
   },
   "outputs": [],
   "source": [
    "cat=[ 'from', 'to','vehicle', 'occupancy','vehicle_type']\n",
    "for col in cat:\n",
    "    final_new[col]=final_new[col].astype('category')"
   ]
  },
  {
   "cell_type": "code",
   "execution_count": 32,
   "metadata": {
    "collapsed": true
   },
   "outputs": [],
   "source": [
    "from sklearn.preprocessing import LabelEncoder\n",
    "le = LabelEncoder()\n",
    "for col in ['from','to','vehicle','week_day','nr_of_stops','vehicle_type']:\n",
    "    final_new[col] = le.fit_transform(final_new[col])"
   ]
  },
  {
   "cell_type": "code",
   "execution_count": 33,
   "metadata": {
    "collapsed": true
   },
   "outputs": [],
   "source": [
    "train=final_new.iloc[0:2250,:]\n",
    "test=final_new.iloc[2250:, [0,1,2,3,4,5,6,8,9]]"
   ]
  },
  {
   "cell_type": "code",
   "execution_count": 34,
   "metadata": {},
   "outputs": [
    {
     "data": {
      "text/plain": [
       "((2250, 10), (1529, 9))"
      ]
     },
     "execution_count": 34,
     "metadata": {},
     "output_type": "execute_result"
    }
   ],
   "source": [
    "train.shape, test.shape"
   ]
  },
  {
   "cell_type": "code",
   "execution_count": 35,
   "metadata": {},
   "outputs": [
    {
     "data": {
      "text/plain": [
       "week_day        0\n",
       "month           0\n",
       "day             0\n",
       "from            0\n",
       "to              0\n",
       "vehicle         0\n",
       "hour_minutes    0\n",
       "occupancy       0\n",
       "vehicle_type    0\n",
       "nr_of_stops     0\n",
       "dtype: int64"
      ]
     },
     "execution_count": 35,
     "metadata": {},
     "output_type": "execute_result"
    }
   ],
   "source": [
    "train.isnull().sum()"
   ]
  },
  {
   "cell_type": "code",
   "execution_count": 36,
   "metadata": {
    "collapsed": true
   },
   "outputs": [],
   "source": [
    "from sklearn.model_selection import train_test_split\n",
    "X_train, X_test, Y_train,Y_test = train_test_split(train.drop(['occupancy'],axis=1),train['occupancy'],\n",
    "                                                    test_size =0.4,random_state = 123)"
   ]
  },
  {
   "cell_type": "code",
   "execution_count": 37,
   "metadata": {},
   "outputs": [
    {
     "data": {
      "text/plain": [
       "((1350, 9), (1350,), (900, 9), (900,))"
      ]
     },
     "execution_count": 37,
     "metadata": {},
     "output_type": "execute_result"
    }
   ],
   "source": [
    "X_train.shape, Y_train.shape, X_test.shape, Y_test.shape"
   ]
  },
  {
   "cell_type": "markdown",
   "metadata": {},
   "source": [
    "### Decesion Tree"
   ]
  },
  {
   "cell_type": "code",
   "execution_count": 38,
   "metadata": {},
   "outputs": [
    {
     "data": {
      "text/plain": [
       "DecisionTreeClassifier(class_weight=None, criterion='gini', max_depth=None,\n",
       "            max_features=None, max_leaf_nodes=None,\n",
       "            min_impurity_split=1e-07, min_samples_leaf=1,\n",
       "            min_samples_split=2, min_weight_fraction_leaf=0.0,\n",
       "            presort=False, random_state=None, splitter='best')"
      ]
     },
     "execution_count": 38,
     "metadata": {},
     "output_type": "execute_result"
    },
    {
     "data": {
      "text/plain": [
       "array([[153,  69,  73],\n",
       "       [ 79, 211,  81],\n",
       "       [ 75,  64,  95]])"
      ]
     },
     "execution_count": 38,
     "metadata": {},
     "output_type": "execute_result"
    },
    {
     "data": {
      "text/plain": [
       "(0.51000000000000001, 0.25610773224376571)"
      ]
     },
     "execution_count": 38,
     "metadata": {},
     "output_type": "execute_result"
    }
   ],
   "source": [
    "from sklearn.tree import DecisionTreeClassifier\n",
    "from sklearn import metrics\n",
    "\n",
    "tree_model = DecisionTreeClassifier()\n",
    "tree_model.fit(X = X_train, y = Y_train)\n",
    "pred_tree = tree_model.predict(X = X_test)\n",
    "\n",
    "metrics.confusion_matrix(Y_test,pred_tree)\n",
    "metrics.accuracy_score(Y_test,pred_tree), metrics.cohen_kappa_score(Y_test,pred_tree)"
   ]
  },
  {
   "cell_type": "markdown",
   "metadata": {},
   "source": [
    "### Random Forest"
   ]
  },
  {
   "cell_type": "code",
   "execution_count": 40,
   "metadata": {},
   "outputs": [
    {
     "data": {
      "text/plain": [
       "GridSearchCV(cv=5, error_score='raise',\n",
       "       estimator=RandomForestClassifier(bootstrap=True, class_weight=None, criterion='gini',\n",
       "            max_depth=None, max_features='auto', max_leaf_nodes=None,\n",
       "            min_impurity_split=1e-07, min_samples_leaf=1,\n",
       "            min_samples_split=2, min_weight_fraction_leaf=0.0,\n",
       "            n_estimators=10, n_jobs=1, oob_score=False, random_state=None,\n",
       "            verbose=0, warm_start=False),\n",
       "       fit_params={}, iid=True, n_jobs=1,\n",
       "       param_grid={'n_estimators': [200, 300, 400], 'criterion': ['gini', 'entropy'], 'min_samples_split': [2, 4], 'min_samples_leaf': [1, 2, 4]},\n",
       "       pre_dispatch='2*n_jobs', refit=True, return_train_score=True,\n",
       "       scoring='accuracy', verbose=0)"
      ]
     },
     "execution_count": 40,
     "metadata": {},
     "output_type": "execute_result"
    }
   ],
   "source": [
    "from sklearn.model_selection import GridSearchCV\n",
    "from sklearn.ensemble import RandomForestClassifier\n",
    "\n",
    "target=LabelEncoder().fit_transform(Y_train)\n",
    "parmeters={'n_estimators':[200, 300, 400], 'criterion':['gini','entropy'],\n",
    "         'min_samples_split':[2,4], 'min_samples_leaf':[1,2,4]}\n",
    "         \n",
    "rand_model=GridSearchCV(estimator=RandomForestClassifier(),param_grid=parmeters,scoring='accuracy', cv=5)\n",
    "\n",
    "rand_model.fit(X = X_train, y = target)"
   ]
  },
  {
   "cell_type": "code",
   "execution_count": 41,
   "metadata": {},
   "outputs": [
    {
     "data": {
      "text/plain": [
       "RandomForestClassifier(bootstrap=True, class_weight=None, criterion='gini',\n",
       "            max_depth=None, max_features='auto', max_leaf_nodes=None,\n",
       "            min_impurity_split=1e-07, min_samples_leaf=1,\n",
       "            min_samples_split=2, min_weight_fraction_leaf=0.0,\n",
       "            n_estimators=300, n_jobs=1, oob_score=False, random_state=None,\n",
       "            verbose=0, warm_start=False)"
      ]
     },
     "execution_count": 41,
     "metadata": {},
     "output_type": "execute_result"
    }
   ],
   "source": [
    "rand_model.best_estimator_"
   ]
  },
  {
   "cell_type": "code",
   "execution_count": 42,
   "metadata": {},
   "outputs": [
    {
     "data": {
      "text/plain": [
       "RandomForestClassifier(bootstrap=True, class_weight=None, criterion='gini',\n",
       "            max_depth=None, max_features='auto', max_leaf_nodes=None,\n",
       "            min_impurity_split=1e-07, min_samples_leaf=1,\n",
       "            min_samples_split=2, min_weight_fraction_leaf=0.0,\n",
       "            n_estimators=300, n_jobs=1, oob_score=False, random_state=None,\n",
       "            verbose=0, warm_start=False)"
      ]
     },
     "execution_count": 42,
     "metadata": {},
     "output_type": "execute_result"
    },
    {
     "data": {
      "text/plain": [
       "array([[155,  73,  67],\n",
       "       [ 71, 248,  52],\n",
       "       [ 63,  60, 111]])"
      ]
     },
     "execution_count": 42,
     "metadata": {},
     "output_type": "execute_result"
    },
    {
     "data": {
      "text/plain": [
       "(0.57111111111111112, 0.34400102724076331)"
      ]
     },
     "execution_count": 42,
     "metadata": {},
     "output_type": "execute_result"
    }
   ],
   "source": [
    "from sklearn.ensemble import RandomForestClassifier\n",
    "\n",
    "rand_model = RandomForestClassifier(bootstrap=True, class_weight=None, criterion='gini',\n",
    "            max_depth=None, max_features='auto', max_leaf_nodes=None,\n",
    "            min_impurity_split=1e-07, min_samples_leaf=1,\n",
    "            min_samples_split=2, min_weight_fraction_leaf=0.0,\n",
    "            n_estimators=300, n_jobs=1, oob_score=False, random_state=None,\n",
    "            verbose=0, warm_start=False)\n",
    "\n",
    "rand_model.fit(X = X_train, y = Y_train)\n",
    "pred_rand = rand_model.predict(X = X_test)\n",
    "\n",
    "metrics.confusion_matrix(Y_test,pred_rand)\n",
    "metrics.accuracy_score(Y_test,pred_rand), metrics.cohen_kappa_score(Y_test,pred_rand)"
   ]
  },
  {
   "cell_type": "code",
   "execution_count": 51,
   "metadata": {},
   "outputs": [
    {
     "data": {
      "text/plain": [
       "<matplotlib.axes._subplots.AxesSubplot at 0x7fdc7d887278>"
      ]
     },
     "execution_count": 51,
     "metadata": {},
     "output_type": "execute_result"
    },
    {
     "data": {
      "text/plain": [
       "(array([0, 1, 2, 3, 4, 5, 6, 7, 8]), <a list of 9 Text xticklabel objects>)"
      ]
     },
     "execution_count": 51,
     "metadata": {},
     "output_type": "execute_result"
    },
    {
     "data": {
      "text/html": [
       "<div>\n",
       "<table border=\"1\" class=\"dataframe\">\n",
       "  <thead>\n",
       "    <tr style=\"text-align: right;\">\n",
       "      <th></th>\n",
       "      <th>features</th>\n",
       "      <th>importance</th>\n",
       "    </tr>\n",
       "  </thead>\n",
       "  <tbody>\n",
       "    <tr>\n",
       "      <th>7</th>\n",
       "      <td>vehicle_type</td>\n",
       "      <td>0.021798</td>\n",
       "    </tr>\n",
       "    <tr>\n",
       "      <th>1</th>\n",
       "      <td>month</td>\n",
       "      <td>0.040232</td>\n",
       "    </tr>\n",
       "    <tr>\n",
       "      <th>0</th>\n",
       "      <td>week_day</td>\n",
       "      <td>0.072443</td>\n",
       "    </tr>\n",
       "    <tr>\n",
       "      <th>8</th>\n",
       "      <td>nr_of_stops</td>\n",
       "      <td>0.107725</td>\n",
       "    </tr>\n",
       "    <tr>\n",
       "      <th>2</th>\n",
       "      <td>day</td>\n",
       "      <td>0.112314</td>\n",
       "    </tr>\n",
       "    <tr>\n",
       "      <th>4</th>\n",
       "      <td>to</td>\n",
       "      <td>0.132922</td>\n",
       "    </tr>\n",
       "    <tr>\n",
       "      <th>3</th>\n",
       "      <td>from</td>\n",
       "      <td>0.138394</td>\n",
       "    </tr>\n",
       "    <tr>\n",
       "      <th>5</th>\n",
       "      <td>vehicle</td>\n",
       "      <td>0.154351</td>\n",
       "    </tr>\n",
       "    <tr>\n",
       "      <th>6</th>\n",
       "      <td>hour_minutes</td>\n",
       "      <td>0.219822</td>\n",
       "    </tr>\n",
       "  </tbody>\n",
       "</table>\n",
       "</div>"
      ],
      "text/plain": [
       "       features  importance\n",
       "7  vehicle_type    0.021798\n",
       "1         month    0.040232\n",
       "0      week_day    0.072443\n",
       "8   nr_of_stops    0.107725\n",
       "2           day    0.112314\n",
       "4            to    0.132922\n",
       "3          from    0.138394\n",
       "5       vehicle    0.154351\n",
       "6  hour_minutes    0.219822"
      ]
     },
     "execution_count": 51,
     "metadata": {},
     "output_type": "execute_result"
    },
    {
     "data": {
      "image/png": "[encoded data removed]",
      "text/plain": [
       "<matplotlib.figure.Figure at 0x7fdc7d87be80>"
      ]
     },
     "metadata": {},
     "output_type": "display_data"
    }
   ],
   "source": [
    "features=X_train.columns\n",
    "f_imp=list(zip(X_train[features], rand_model.feature_importances_))\n",
    "f_imp=pd.DataFrame(f_imp, columns=['features','importance'])\n",
    "f_imp.sort_values(by = 'importance', inplace = True)\n",
    "\n",
    "f_imp.plot.bar(x='features',y='importance')\n",
    "plt.rcParams['figure.figsize']=12,6\n",
    "plt.xticks(rotation=30)\n",
    "\n",
    "f_imp"
   ]
  },
  {
   "cell_type": "markdown",
   "metadata": {},
   "source": [
    "### XGboost"
   ]
  },
  {
   "cell_type": "code",
   "execution_count": 52,
   "metadata": {
    "scrolled": true
   },
   "outputs": [
    {
     "name": "stdout",
     "output_type": "stream",
     "text": [
      "Fitting 5 folds for each of 12 candidates, totalling 60 fits\n"
     ]
    },
    {
     "name": "stderr",
     "output_type": "stream",
     "text": [
      "[Parallel(n_jobs=2)]: Done  46 tasks      | elapsed:  2.4min\n",
      "[Parallel(n_jobs=2)]: Done  60 out of  60 | elapsed:  3.4min finished\n"
     ]
    },
    {
     "data": {
      "text/plain": [
       "GridSearchCV(cv=StratifiedKFold(n_splits=5, random_state=7, shuffle=True),\n",
       "       error_score='raise',\n",
       "       estimator=XGBClassifier(base_score=0.5, colsample_bylevel=1, colsample_bytree=1,\n",
       "       gamma=0, learning_rate=0.1, max_delta_step=0, max_depth=3,\n",
       "       min_child_weight=1, missing=None, n_estimators=100, nthread=-1,\n",
       "       objective='binary:logistic', reg_alpha=0, reg_lambda=1,\n",
       "       scale_pos_weight=1, seed=0, silent=True, subsample=1),\n",
       "       fit_params={}, iid=True, n_jobs=2,\n",
       "       param_grid={'objective': ['multi:softmax'], 'learning_rate': [0.05, 0.01], 'max_depth': [4, 6, 8], 'min_child_weight': [11], 'silent': [1], 'subsample': [0.7], 'colsample_bytree': [0.7], 'n_estimators': [300, 400], 'missing': [-999], 'seed': [1337]},\n",
       "       pre_dispatch='2*n_jobs', refit=True, return_train_score=True,\n",
       "       scoring='accuracy', verbose=1)"
      ]
     },
     "execution_count": 52,
     "metadata": {},
     "output_type": "execute_result"
    }
   ],
   "source": [
    "from xgboost import XGBClassifier\n",
    "from sklearn.model_selection import StratifiedKFold\n",
    "from sklearn.model_selection import GridSearchCV\n",
    "from sklearn.preprocessing import LabelEncoder\n",
    "\n",
    "target=LabelEncoder().fit_transform(Y_train)\n",
    "\n",
    "param= {'objective':['multi:softmax'],'learning_rate': [0.05,.01],'max_depth': [4,6,8],\n",
    "        'min_child_weight': [11],'silent': [1],'subsample': [0.7],'colsample_bytree': [0.7],\n",
    "        'n_estimators': [300,400],'missing':[-999],'seed': [1337]  }\n",
    "\n",
    "kfold = StratifiedKFold(n_splits=5, shuffle=True, random_state=7)\n",
    "\n",
    "grid_search=GridSearchCV(estimator=XGBClassifier(),param_grid=param, scoring='accuracy',n_jobs=2, cv=kfold, verbose=1)\n",
    "\n",
    "grid_search.fit(X_train, target)"
   ]
  },
  {
   "cell_type": "code",
   "execution_count": 53,
   "metadata": {
    "scrolled": true
   },
   "outputs": [
    {
     "data": {
      "text/plain": [
       "XGBClassifier(base_score=0.5, colsample_bylevel=1, colsample_bytree=0.7,\n",
       "       gamma=0, learning_rate=0.05, max_delta_step=0, max_depth=8,\n",
       "       min_child_weight=11, missing=-999, n_estimators=400, nthread=-1,\n",
       "       objective='multi:softprob', reg_alpha=0, reg_lambda=1,\n",
       "       scale_pos_weight=1, seed=1337, silent=1, subsample=0.7)"
      ]
     },
     "execution_count": 53,
     "metadata": {},
     "output_type": "execute_result"
    }
   ],
   "source": [
    "grid_search.best_estimator_"
   ]
  },
  {
   "cell_type": "code",
   "execution_count": 54,
   "metadata": {},
   "outputs": [
    {
     "data": {
      "text/plain": [
       "XGBClassifier(base_score=0.5, colsample_bylevel=1, colsample_bytree=0.7,\n",
       "       gamma=0, learning_rate=0.05, max_delta_step=0, max_depth=8,\n",
       "       min_child_weight=11, missing=-999, n_estimators=400, nthread=-1,\n",
       "       objective='multi:softprob', reg_alpha=0, reg_lambda=1,\n",
       "       scale_pos_weight=1, seed=1337, silent=1, subsample=0.7)"
      ]
     },
     "execution_count": 54,
     "metadata": {},
     "output_type": "execute_result"
    },
    {
     "data": {
      "text/plain": [
       "array([[158,  71,  66],\n",
       "       [ 77, 239,  55],\n",
       "       [ 62,  66, 106]])"
      ]
     },
     "execution_count": 54,
     "metadata": {},
     "output_type": "execute_result"
    },
    {
     "data": {
      "text/plain": [
       "(0.55888888888888888, 0.32555764660579756)"
      ]
     },
     "execution_count": 54,
     "metadata": {},
     "output_type": "execute_result"
    }
   ],
   "source": [
    "xgb_model=XGBClassifier(base_score=0.5, colsample_bylevel=1, colsample_bytree=0.7,\n",
    "       gamma=0, learning_rate=0.05, max_delta_step=0, max_depth=8,\n",
    "       min_child_weight=11, missing=-999, n_estimators=400, nthread=-1,\n",
    "       objective='multi:softprob', reg_alpha=0, reg_lambda=1,\n",
    "       scale_pos_weight=1, seed=1337, silent=1, subsample=0.7)\n",
    "\n",
    "xgb_model.fit(X_train, Y_train)\n",
    "pred=xgb_model.predict(X_test)\n",
    "\n",
    "metrics.confusion_matrix(Y_test,pred)\n",
    "metrics.accuracy_score(Y_test,pred), metrics.cohen_kappa_score(Y_test,pred)"
   ]
  },
  {
   "cell_type": "code",
   "execution_count": 47,
   "metadata": {},
   "outputs": [
    {
     "data": {
      "text/plain": [
       "<matplotlib.axes._subplots.AxesSubplot at 0x7fdc83b05b00>"
      ]
     },
     "execution_count": 47,
     "metadata": {},
     "output_type": "execute_result"
    },
    {
     "data": {
      "text/plain": [
       "(array([0, 1, 2, 3, 4, 5, 6, 7, 8]), <a list of 9 Text xticklabel objects>)"
      ]
     },
     "execution_count": 47,
     "metadata": {},
     "output_type": "execute_result"
    },
    {
     "data": {
      "text/html": [
       "<div>\n",
       "<table border=\"1\" class=\"dataframe\">\n",
       "  <thead>\n",
       "    <tr style=\"text-align: right;\">\n",
       "      <th></th>\n",
       "      <th>features</th>\n",
       "      <th>importance</th>\n",
       "    </tr>\n",
       "  </thead>\n",
       "  <tbody>\n",
       "    <tr>\n",
       "      <th>7</th>\n",
       "      <td>vehicle_type</td>\n",
       "      <td>0.009133</td>\n",
       "    </tr>\n",
       "    <tr>\n",
       "      <th>1</th>\n",
       "      <td>month</td>\n",
       "      <td>0.030869</td>\n",
       "    </tr>\n",
       "    <tr>\n",
       "      <th>0</th>\n",
       "      <td>week_day</td>\n",
       "      <td>0.067114</td>\n",
       "    </tr>\n",
       "    <tr>\n",
       "      <th>8</th>\n",
       "      <td>nr_of_stops</td>\n",
       "      <td>0.087288</td>\n",
       "    </tr>\n",
       "    <tr>\n",
       "      <th>2</th>\n",
       "      <td>day</td>\n",
       "      <td>0.113706</td>\n",
       "    </tr>\n",
       "    <tr>\n",
       "      <th>4</th>\n",
       "      <td>to</td>\n",
       "      <td>0.126134</td>\n",
       "    </tr>\n",
       "    <tr>\n",
       "      <th>3</th>\n",
       "      <td>from</td>\n",
       "      <td>0.145673</td>\n",
       "    </tr>\n",
       "    <tr>\n",
       "      <th>5</th>\n",
       "      <td>vehicle</td>\n",
       "      <td>0.190069</td>\n",
       "    </tr>\n",
       "    <tr>\n",
       "      <th>6</th>\n",
       "      <td>hour_minutes</td>\n",
       "      <td>0.230013</td>\n",
       "    </tr>\n",
       "  </tbody>\n",
       "</table>\n",
       "</div>"
      ],
      "text/plain": [
       "       features  importance\n",
       "7  vehicle_type    0.009133\n",
       "1         month    0.030869\n",
       "0      week_day    0.067114\n",
       "8   nr_of_stops    0.087288\n",
       "2           day    0.113706\n",
       "4            to    0.126134\n",
       "3          from    0.145673\n",
       "5       vehicle    0.190069\n",
       "6  hour_minutes    0.230013"
      ]
     },
     "execution_count": 47,
     "metadata": {},
     "output_type": "execute_result"
    },
    {
     "data": {
      "image/png": "[encoded data removed]",
      "text/plain": [
       "<matplotlib.figure.Figure at 0x7fdc7fd9ba90>"
      ]
     },
     "metadata": {},
     "output_type": "display_data"
    }
   ],
   "source": [
    "features=X_train.columns\n",
    "f_imp=list(zip(X_train[features], xgb_model.feature_importances_))\n",
    "f_imp=pd.DataFrame(f_imp, columns=['features','importance'])\n",
    "f_imp.sort_values(by = 'importance', inplace = True)\n",
    "\n",
    "f_imp.plot.bar(x='features',y='importance')\n",
    "plt.rcParams['figure.figsize']=12,6\n",
    "plt.xticks(rotation=30)\n",
    "\n",
    "f_imp"
   ]
  },
  {
   "cell_type": "markdown",
   "metadata": {},
   "source": [
    "### Bagging"
   ]
  },
  {
   "cell_type": "code",
   "execution_count": 55,
   "metadata": {},
   "outputs": [
    {
     "data": {
      "text/plain": [
       "BaggingClassifier(base_estimator=None, bootstrap=True,\n",
       "         bootstrap_features=False, max_features=0.5, max_samples=0.6,\n",
       "         n_estimators=700, n_jobs=1, oob_score=False, random_state=None,\n",
       "         verbose=0, warm_start=False)"
      ]
     },
     "execution_count": 55,
     "metadata": {},
     "output_type": "execute_result"
    },
    {
     "data": {
      "text/plain": [
       "array([[166,  75,  54],\n",
       "       [ 73, 258,  40],\n",
       "       [ 56,  84,  94]])"
      ]
     },
     "execution_count": 55,
     "metadata": {},
     "output_type": "execute_result"
    },
    {
     "data": {
      "text/plain": [
       "(0.5755555555555556, 0.34423853085016287)"
      ]
     },
     "execution_count": 55,
     "metadata": {},
     "output_type": "execute_result"
    }
   ],
   "source": [
    "from sklearn import ensemble\n",
    "bag_model = ensemble.bagging.BaggingClassifier(n_estimators= 700,  max_features=0.5, max_samples=.6)\n",
    "bag_model.fit(X = X_train, y = Y_train)\n",
    "pred=bag_model.predict(X = X_test)\n",
    "\n",
    "metrics.confusion_matrix(Y_test,pred)\n",
    "metrics.accuracy_score(Y_test,pred), metrics.cohen_kappa_score(Y_test,pred)"
   ]
  },
  {
   "cell_type": "code",
   "execution_count": 49,
   "metadata": {
    "collapsed": true
   },
   "outputs": [],
   "source": [
    "pred_test=xgb_model.predict(test)"
   ]
  },
  {
   "cell_type": "code",
   "execution_count": 50,
   "metadata": {
    "collapsed": true
   },
   "outputs": [],
   "source": [
    "output=pd.DataFrame({'id':range(0,len(pred_test)), 'occupancy':pred_test})\n",
    "output.to_csv('/home/ashwani/Desktop/output.csv', index=False)\n"
   ]
  }
 ],
 "metadata": {
  "kernelspec": {
   "display_name": "Python 3",
   "language": "python",
   "name": "python3"
  },
  "language_info": {
   "codemirror_mode": {
    "name": "ipython",
    "version": 3
   },
   "file_extension": ".py",
   "mimetype": "text/x-python",
   "name": "python",
   "nbconvert_exporter": "python",
   "pygments_lexer": "ipython3",
   "version": "3.6.0"
  }
 },
 "nbformat": 4,
 "nbformat_minor": 2
}
