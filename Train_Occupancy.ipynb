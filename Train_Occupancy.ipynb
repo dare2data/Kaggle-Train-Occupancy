{
 "cells": [
  {
   "cell_type": "code",
   "execution_count": 1,
   "metadata": {
    "collapsed": true
   },
   "outputs": [],
   "source": [
    "import pandas as pd\n",
    "import numpy as np\n",
    "\n",
    "import matplotlib.pyplot as plt\n",
    "import seaborn as sns\n",
    "%matplotlib inline\n",
    "\n",
    "import warnings\n",
    "warnings.filterwarnings(\"ignore\")\n",
    "\n",
    "from IPython.core.interactiveshell import InteractiveShell\n",
    "InteractiveShell.ast_node_interactivity = \"all\"\n"
   ]
  },
  {
   "cell_type": "code",
   "execution_count": 2,
   "metadata": {
    "collapsed": true
   },
   "outputs": [],
   "source": [
    "train=pd.read_csv('/home/ashwani/Desktop/Python/DataSet/train/trains_train.csv')\n",
    "test=pd.read_csv('/home/ashwani/Desktop/Python/DataSet/train/trains_test.csv')\n"
   ]
  },
  {
   "cell_type": "code",
   "execution_count": 3,
   "metadata": {},
   "outputs": [
    {
     "data": {
      "text/html": [
       "<div>\n",
       "<style>\n",
       "    .dataframe thead tr:only-child th {\n",
       "        text-align: right;\n",
       "    }\n",
       "\n",
       "    .dataframe thead th {\n",
       "        text-align: left;\n",
       "    }\n",
       "\n",
       "    .dataframe tbody tr th {\n",
       "        vertical-align: top;\n",
       "    }\n",
       "</style>\n",
       "<table border=\"1\" class=\"dataframe\">\n",
       "  <thead>\n",
       "    <tr style=\"text-align: right;\">\n",
       "      <th></th>\n",
       "      <th>date</th>\n",
       "      <th>time</th>\n",
       "      <th>connection</th>\n",
       "      <th>from</th>\n",
       "      <th>to</th>\n",
       "      <th>vehicle</th>\n",
       "      <th>occupancy</th>\n",
       "    </tr>\n",
       "  </thead>\n",
       "  <tbody>\n",
       "    <tr>\n",
       "      <th>0</th>\n",
       "      <td>2016-07-27</td>\n",
       "      <td>08:05:51 PM</td>\n",
       "      <td>8813003/20160727/IC1518</td>\n",
       "      <td>008813003</td>\n",
       "      <td>000000000</td>\n",
       "      <td>IC1518</td>\n",
       "      <td>high</td>\n",
       "    </tr>\n",
       "    <tr>\n",
       "      <th>1</th>\n",
       "      <td>2016-07-27</td>\n",
       "      <td>08:06:11 PM</td>\n",
       "      <td>8813003/20160727/IC1518</td>\n",
       "      <td>008813003</td>\n",
       "      <td>000000000</td>\n",
       "      <td>IC1518</td>\n",
       "      <td>high</td>\n",
       "    </tr>\n",
       "    <tr>\n",
       "      <th>2</th>\n",
       "      <td>2016-07-27</td>\n",
       "      <td>08:08:57 PM</td>\n",
       "      <td>8813003/20160727/IC1518</td>\n",
       "      <td>008813003</td>\n",
       "      <td>000000000</td>\n",
       "      <td>IC1518</td>\n",
       "      <td>high</td>\n",
       "    </tr>\n",
       "    <tr>\n",
       "      <th>3</th>\n",
       "      <td>2016-07-27</td>\n",
       "      <td>08:09:08 PM</td>\n",
       "      <td>8813003/20160727/IC1518</td>\n",
       "      <td>008813003</td>\n",
       "      <td>000000000</td>\n",
       "      <td>IC1518</td>\n",
       "      <td>high</td>\n",
       "    </tr>\n",
       "    <tr>\n",
       "      <th>4</th>\n",
       "      <td>2016-07-27</td>\n",
       "      <td>08:11:01 PM</td>\n",
       "      <td>8813003/20160727/IC1518</td>\n",
       "      <td>008813003</td>\n",
       "      <td>000000000</td>\n",
       "      <td>IC1518</td>\n",
       "      <td>high</td>\n",
       "    </tr>\n",
       "  </tbody>\n",
       "</table>\n",
       "</div>"
      ],
      "text/plain": [
       "         date         time               connection       from         to  \\\n",
       "0  2016-07-27  08:05:51 PM  8813003/20160727/IC1518  008813003  000000000   \n",
       "1  2016-07-27  08:06:11 PM  8813003/20160727/IC1518  008813003  000000000   \n",
       "2  2016-07-27  08:08:57 PM  8813003/20160727/IC1518  008813003  000000000   \n",
       "3  2016-07-27  08:09:08 PM  8813003/20160727/IC1518  008813003  000000000   \n",
       "4  2016-07-27  08:11:01 PM  8813003/20160727/IC1518  008813003  000000000   \n",
       "\n",
       "  vehicle occupancy  \n",
       "0  IC1518      high  \n",
       "1  IC1518      high  \n",
       "2  IC1518      high  \n",
       "3  IC1518      high  \n",
       "4  IC1518      high  "
      ]
     },
     "execution_count": 3,
     "metadata": {},
     "output_type": "execute_result"
    }
   ],
   "source": [
    "train.head()"
   ]
  },
  {
   "cell_type": "code",
   "execution_count": 4,
   "metadata": {
    "collapsed": true
   },
   "outputs": [],
   "source": [
    "# Splitting Connection Variables\n",
    "train_con= pd.DataFrame(train.connection.str.split('/',2).tolist(),\n",
    "                                  columns = ['frm','mid','vech'])"
   ]
  },
  {
   "cell_type": "code",
   "execution_count": 5,
   "metadata": {},
   "outputs": [
    {
     "data": {
      "text/html": [
       "<div>\n",
       "<style>\n",
       "    .dataframe thead tr:only-child th {\n",
       "        text-align: right;\n",
       "    }\n",
       "\n",
       "    .dataframe thead th {\n",
       "        text-align: left;\n",
       "    }\n",
       "\n",
       "    .dataframe tbody tr th {\n",
       "        vertical-align: top;\n",
       "    }\n",
       "</style>\n",
       "<table border=\"1\" class=\"dataframe\">\n",
       "  <thead>\n",
       "    <tr style=\"text-align: right;\">\n",
       "      <th></th>\n",
       "      <th>frm</th>\n",
       "      <th>mid</th>\n",
       "      <th>vech</th>\n",
       "    </tr>\n",
       "  </thead>\n",
       "  <tbody>\n",
       "    <tr>\n",
       "      <th>0</th>\n",
       "      <td>8813003</td>\n",
       "      <td>20160727</td>\n",
       "      <td>IC1518</td>\n",
       "    </tr>\n",
       "    <tr>\n",
       "      <th>1</th>\n",
       "      <td>8813003</td>\n",
       "      <td>20160727</td>\n",
       "      <td>IC1518</td>\n",
       "    </tr>\n",
       "    <tr>\n",
       "      <th>2</th>\n",
       "      <td>8813003</td>\n",
       "      <td>20160727</td>\n",
       "      <td>IC1518</td>\n",
       "    </tr>\n",
       "    <tr>\n",
       "      <th>3</th>\n",
       "      <td>8813003</td>\n",
       "      <td>20160727</td>\n",
       "      <td>IC1518</td>\n",
       "    </tr>\n",
       "    <tr>\n",
       "      <th>4</th>\n",
       "      <td>8813003</td>\n",
       "      <td>20160727</td>\n",
       "      <td>IC1518</td>\n",
       "    </tr>\n",
       "  </tbody>\n",
       "</table>\n",
       "</div>"
      ],
      "text/plain": [
       "       frm       mid    vech\n",
       "0  8813003  20160727  IC1518\n",
       "1  8813003  20160727  IC1518\n",
       "2  8813003  20160727  IC1518\n",
       "3  8813003  20160727  IC1518\n",
       "4  8813003  20160727  IC1518"
      ]
     },
     "execution_count": 5,
     "metadata": {},
     "output_type": "execute_result"
    }
   ],
   "source": [
    "train_con.head()"
   ]
  },
  {
   "cell_type": "code",
   "execution_count": 6,
   "metadata": {
    "collapsed": true
   },
   "outputs": [],
   "source": [
    "train=train.drop(['vehicle'], axis=1)\n",
    "train['vehicle']=train_con.vech"
   ]
  },
  {
   "cell_type": "code",
   "execution_count": 7,
   "metadata": {
    "collapsed": true
   },
   "outputs": [],
   "source": [
    "test_con= pd.DataFrame(test.connection.str.split('/',2).tolist(),\n",
    "                                  columns = ['frm','mid','vech'])"
   ]
  },
  {
   "cell_type": "code",
   "execution_count": 8,
   "metadata": {},
   "outputs": [
    {
     "data": {
      "text/html": [
       "<div>\n",
       "<style>\n",
       "    .dataframe thead tr:only-child th {\n",
       "        text-align: right;\n",
       "    }\n",
       "\n",
       "    .dataframe thead th {\n",
       "        text-align: left;\n",
       "    }\n",
       "\n",
       "    .dataframe tbody tr th {\n",
       "        vertical-align: top;\n",
       "    }\n",
       "</style>\n",
       "<table border=\"1\" class=\"dataframe\">\n",
       "  <thead>\n",
       "    <tr style=\"text-align: right;\">\n",
       "      <th></th>\n",
       "      <th>frm</th>\n",
       "      <th>mid</th>\n",
       "      <th>vech</th>\n",
       "    </tr>\n",
       "  </thead>\n",
       "  <tbody>\n",
       "    <tr>\n",
       "      <th>1524</th>\n",
       "      <td>8892007</td>\n",
       "      <td>20161219</td>\n",
       "      <td>IC1806</td>\n",
       "    </tr>\n",
       "    <tr>\n",
       "      <th>1525</th>\n",
       "      <td>8821006</td>\n",
       "      <td>20161219</td>\n",
       "      <td>IC2028</td>\n",
       "    </tr>\n",
       "    <tr>\n",
       "      <th>1526</th>\n",
       "      <td>8833308</td>\n",
       "      <td>20161219</td>\n",
       "      <td>IC1728</td>\n",
       "    </tr>\n",
       "    <tr>\n",
       "      <th>1527</th>\n",
       "      <td>8814001</td>\n",
       "      <td>20161219</td>\n",
       "      <td>P7801</td>\n",
       "    </tr>\n",
       "    <tr>\n",
       "      <th>1528</th>\n",
       "      <td>8814167</td>\n",
       "      <td>20161219</td>\n",
       "      <td>P7723</td>\n",
       "    </tr>\n",
       "  </tbody>\n",
       "</table>\n",
       "</div>"
      ],
      "text/plain": [
       "          frm       mid    vech\n",
       "1524  8892007  20161219  IC1806\n",
       "1525  8821006  20161219  IC2028\n",
       "1526  8833308  20161219  IC1728\n",
       "1527  8814001  20161219   P7801\n",
       "1528  8814167  20161219   P7723"
      ]
     },
     "execution_count": 8,
     "metadata": {},
     "output_type": "execute_result"
    }
   ],
   "source": [
    "test_con.tail()"
   ]
  },
  {
   "cell_type": "code",
   "execution_count": 9,
   "metadata": {
    "collapsed": true
   },
   "outputs": [],
   "source": [
    "test=test.drop(['vehicle'], axis=1)\n",
    "test['vehicle']=test_con.vech"
   ]
  },
  {
   "cell_type": "code",
   "execution_count": 10,
   "metadata": {},
   "outputs": [
    {
     "data": {
      "text/plain": [
       "'008892007'"
      ]
     },
     "execution_count": 10,
     "metadata": {},
     "output_type": "execute_result"
    }
   ],
   "source": [
    "train['from'].mode()[0]\n",
    "train.loc[train['from']=='(null)','from']=8812005\n",
    "train.loc[train['to']=='(null)','to']=0\n"
   ]
  },
  {
   "cell_type": "code",
   "execution_count": 11,
   "metadata": {
    "collapsed": true
   },
   "outputs": [],
   "source": [
    "#train[train['vehicle']=='IC1518']\n",
    "train.loc[train['to']==0, 'to']=8831765"
   ]
  },
  {
   "cell_type": "code",
   "execution_count": 12,
   "metadata": {},
   "outputs": [
    {
     "data": {
      "text/plain": [
       "((2250, 7), (1529, 6))"
      ]
     },
     "execution_count": 12,
     "metadata": {},
     "output_type": "execute_result"
    }
   ],
   "source": [
    "train.shape, test.shape"
   ]
  },
  {
   "cell_type": "code",
   "execution_count": 13,
   "metadata": {},
   "outputs": [
    {
     "name": "stdout",
     "output_type": "stream",
     "text": [
      "date          object\n",
      "time          object\n",
      "connection    object\n",
      "from          object\n",
      "to            object\n",
      "occupancy     object\n",
      "vehicle       object\n",
      "dtype: object\n"
     ]
    },
    {
     "data": {
      "text/plain": [
       "date          object\n",
       "time          object\n",
       "connection    object\n",
       "from           int64\n",
       "to             int64\n",
       "vehicle       object\n",
       "dtype: object"
      ]
     },
     "execution_count": 13,
     "metadata": {},
     "output_type": "execute_result"
    }
   ],
   "source": [
    "print(train.dtypes)\n",
    "test.dtypes"
   ]
  },
  {
   "cell_type": "code",
   "execution_count": 14,
   "metadata": {
    "collapsed": true
   },
   "outputs": [],
   "source": [
    "train['date']=pd.to_datetime(train['date'])\n",
    "train['month'] = train['date'].dt.month\n",
    "train['days_week']=train['date'].dt.dayofweek\n",
    "train['week_day'] = train['date']. dt.weekday_name\n",
    "train['day'] = train['date'].dt.day\n",
    "train['time']=pd.to_datetime(train.time)\n",
    "train['seconds']=train['time'].dt.second\n",
    "train['hour']=train['time'].dt.hour\n",
    "train['minutes']=train['time'].dt.minute\n",
    "train['hour_minutes']=train['hour']*60+ train['minutes']+train['seconds']/60"
   ]
  },
  {
   "cell_type": "code",
   "execution_count": 15,
   "metadata": {
    "collapsed": true
   },
   "outputs": [],
   "source": [
    "test['date']=pd.to_datetime(test['date'])\n",
    "test['month'] = test.date.dt.month\n",
    "test['days_week']=test.date.dt.dayofweek\n",
    "test['week_day'] = test.date.dt.weekday_name\n",
    "test['day'] = test['date'].dt.day\n",
    "test.time=pd.to_datetime(test.time)\n",
    "test['seconds']=test['time'].dt.second\n",
    "test['hour']=test['time'].dt.hour\n",
    "test['minutes']=test['time'].dt.minute\n",
    "\n",
    "test['hour_minutes']=test['hour']*60+ test['minutes']+test['seconds']/60"
   ]
  },
  {
   "cell_type": "code",
   "execution_count": 16,
   "metadata": {},
   "outputs": [
    {
     "data": {
      "text/plain": [
       "date            datetime64[ns]\n",
       "time            datetime64[ns]\n",
       "connection              object\n",
       "from                    object\n",
       "to                      object\n",
       "occupancy               object\n",
       "vehicle                 object\n",
       "month                    int64\n",
       "days_week                int64\n",
       "week_day                object\n",
       "day                      int64\n",
       "seconds                  int64\n",
       "hour                     int64\n",
       "minutes                  int64\n",
       "hour_minutes           float64\n",
       "dtype: object"
      ]
     },
     "execution_count": 16,
     "metadata": {},
     "output_type": "execute_result"
    }
   ],
   "source": [
    "train.dtypes"
   ]
  },
  {
   "cell_type": "code",
   "execution_count": 17,
   "metadata": {},
   "outputs": [
    {
     "data": {
      "text/html": [
       "<div>\n",
       "<style>\n",
       "    .dataframe thead tr:only-child th {\n",
       "        text-align: right;\n",
       "    }\n",
       "\n",
       "    .dataframe thead th {\n",
       "        text-align: left;\n",
       "    }\n",
       "\n",
       "    .dataframe tbody tr th {\n",
       "        vertical-align: top;\n",
       "    }\n",
       "</style>\n",
       "<table border=\"1\" class=\"dataframe\">\n",
       "  <thead>\n",
       "    <tr style=\"text-align: right;\">\n",
       "      <th></th>\n",
       "      <th>date</th>\n",
       "      <th>time</th>\n",
       "      <th>connection</th>\n",
       "      <th>from</th>\n",
       "      <th>to</th>\n",
       "      <th>occupancy</th>\n",
       "      <th>vehicle</th>\n",
       "      <th>month</th>\n",
       "      <th>days_week</th>\n",
       "      <th>week_day</th>\n",
       "      <th>day</th>\n",
       "      <th>seconds</th>\n",
       "      <th>hour</th>\n",
       "      <th>minutes</th>\n",
       "      <th>hour_minutes</th>\n",
       "    </tr>\n",
       "  </thead>\n",
       "  <tbody>\n",
       "    <tr>\n",
       "      <th>0</th>\n",
       "      <td>2016-07-27</td>\n",
       "      <td>2017-09-30 20:05:51</td>\n",
       "      <td>8813003/20160727/IC1518</td>\n",
       "      <td>008813003</td>\n",
       "      <td>000000000</td>\n",
       "      <td>high</td>\n",
       "      <td>IC1518</td>\n",
       "      <td>7</td>\n",
       "      <td>2</td>\n",
       "      <td>Wednesday</td>\n",
       "      <td>27</td>\n",
       "      <td>51</td>\n",
       "      <td>20</td>\n",
       "      <td>5</td>\n",
       "      <td>1205.850000</td>\n",
       "    </tr>\n",
       "    <tr>\n",
       "      <th>1</th>\n",
       "      <td>2016-07-27</td>\n",
       "      <td>2017-09-30 20:06:11</td>\n",
       "      <td>8813003/20160727/IC1518</td>\n",
       "      <td>008813003</td>\n",
       "      <td>000000000</td>\n",
       "      <td>high</td>\n",
       "      <td>IC1518</td>\n",
       "      <td>7</td>\n",
       "      <td>2</td>\n",
       "      <td>Wednesday</td>\n",
       "      <td>27</td>\n",
       "      <td>11</td>\n",
       "      <td>20</td>\n",
       "      <td>6</td>\n",
       "      <td>1206.183333</td>\n",
       "    </tr>\n",
       "    <tr>\n",
       "      <th>2</th>\n",
       "      <td>2016-07-27</td>\n",
       "      <td>2017-09-30 20:08:57</td>\n",
       "      <td>8813003/20160727/IC1518</td>\n",
       "      <td>008813003</td>\n",
       "      <td>000000000</td>\n",
       "      <td>high</td>\n",
       "      <td>IC1518</td>\n",
       "      <td>7</td>\n",
       "      <td>2</td>\n",
       "      <td>Wednesday</td>\n",
       "      <td>27</td>\n",
       "      <td>57</td>\n",
       "      <td>20</td>\n",
       "      <td>8</td>\n",
       "      <td>1208.950000</td>\n",
       "    </tr>\n",
       "    <tr>\n",
       "      <th>3</th>\n",
       "      <td>2016-07-27</td>\n",
       "      <td>2017-09-30 20:09:08</td>\n",
       "      <td>8813003/20160727/IC1518</td>\n",
       "      <td>008813003</td>\n",
       "      <td>000000000</td>\n",
       "      <td>high</td>\n",
       "      <td>IC1518</td>\n",
       "      <td>7</td>\n",
       "      <td>2</td>\n",
       "      <td>Wednesday</td>\n",
       "      <td>27</td>\n",
       "      <td>8</td>\n",
       "      <td>20</td>\n",
       "      <td>9</td>\n",
       "      <td>1209.133333</td>\n",
       "    </tr>\n",
       "    <tr>\n",
       "      <th>4</th>\n",
       "      <td>2016-07-27</td>\n",
       "      <td>2017-09-30 20:11:01</td>\n",
       "      <td>8813003/20160727/IC1518</td>\n",
       "      <td>008813003</td>\n",
       "      <td>000000000</td>\n",
       "      <td>high</td>\n",
       "      <td>IC1518</td>\n",
       "      <td>7</td>\n",
       "      <td>2</td>\n",
       "      <td>Wednesday</td>\n",
       "      <td>27</td>\n",
       "      <td>1</td>\n",
       "      <td>20</td>\n",
       "      <td>11</td>\n",
       "      <td>1211.016667</td>\n",
       "    </tr>\n",
       "  </tbody>\n",
       "</table>\n",
       "</div>"
      ],
      "text/plain": [
       "        date                time               connection       from  \\\n",
       "0 2016-07-27 2017-09-30 20:05:51  8813003/20160727/IC1518  008813003   \n",
       "1 2016-07-27 2017-09-30 20:06:11  8813003/20160727/IC1518  008813003   \n",
       "2 2016-07-27 2017-09-30 20:08:57  8813003/20160727/IC1518  008813003   \n",
       "3 2016-07-27 2017-09-30 20:09:08  8813003/20160727/IC1518  008813003   \n",
       "4 2016-07-27 2017-09-30 20:11:01  8813003/20160727/IC1518  008813003   \n",
       "\n",
       "          to occupancy vehicle  month  days_week   week_day  day  seconds  \\\n",
       "0  000000000      high  IC1518      7          2  Wednesday   27       51   \n",
       "1  000000000      high  IC1518      7          2  Wednesday   27       11   \n",
       "2  000000000      high  IC1518      7          2  Wednesday   27       57   \n",
       "3  000000000      high  IC1518      7          2  Wednesday   27        8   \n",
       "4  000000000      high  IC1518      7          2  Wednesday   27        1   \n",
       "\n",
       "   hour  minutes  hour_minutes  \n",
       "0    20        5   1205.850000  \n",
       "1    20        6   1206.183333  \n",
       "2    20        8   1208.950000  \n",
       "3    20        9   1209.133333  \n",
       "4    20       11   1211.016667  "
      ]
     },
     "execution_count": 17,
     "metadata": {},
     "output_type": "execute_result"
    }
   ],
   "source": [
    "train.head()"
   ]
  },
  {
   "cell_type": "code",
   "execution_count": 18,
   "metadata": {},
   "outputs": [
    {
     "data": {
      "text/html": [
       "<div>\n",
       "<style>\n",
       "    .dataframe thead tr:only-child th {\n",
       "        text-align: right;\n",
       "    }\n",
       "\n",
       "    .dataframe thead th {\n",
       "        text-align: left;\n",
       "    }\n",
       "\n",
       "    .dataframe tbody tr th {\n",
       "        vertical-align: top;\n",
       "    }\n",
       "</style>\n",
       "<table border=\"1\" class=\"dataframe\">\n",
       "  <thead>\n",
       "    <tr style=\"text-align: right;\">\n",
       "      <th></th>\n",
       "      <th>week_day</th>\n",
       "      <th>month</th>\n",
       "      <th>day</th>\n",
       "      <th>from</th>\n",
       "      <th>to</th>\n",
       "      <th>vehicle</th>\n",
       "      <th>hour_minutes</th>\n",
       "      <th>occupancy</th>\n",
       "    </tr>\n",
       "  </thead>\n",
       "  <tbody>\n",
       "    <tr>\n",
       "      <th>0</th>\n",
       "      <td>Wednesday</td>\n",
       "      <td>7</td>\n",
       "      <td>27</td>\n",
       "      <td>008813003</td>\n",
       "      <td>000000000</td>\n",
       "      <td>IC1518</td>\n",
       "      <td>1205.850000</td>\n",
       "      <td>high</td>\n",
       "    </tr>\n",
       "    <tr>\n",
       "      <th>1</th>\n",
       "      <td>Wednesday</td>\n",
       "      <td>7</td>\n",
       "      <td>27</td>\n",
       "      <td>008813003</td>\n",
       "      <td>000000000</td>\n",
       "      <td>IC1518</td>\n",
       "      <td>1206.183333</td>\n",
       "      <td>high</td>\n",
       "    </tr>\n",
       "    <tr>\n",
       "      <th>2</th>\n",
       "      <td>Wednesday</td>\n",
       "      <td>7</td>\n",
       "      <td>27</td>\n",
       "      <td>008813003</td>\n",
       "      <td>000000000</td>\n",
       "      <td>IC1518</td>\n",
       "      <td>1208.950000</td>\n",
       "      <td>high</td>\n",
       "    </tr>\n",
       "    <tr>\n",
       "      <th>3</th>\n",
       "      <td>Wednesday</td>\n",
       "      <td>7</td>\n",
       "      <td>27</td>\n",
       "      <td>008813003</td>\n",
       "      <td>000000000</td>\n",
       "      <td>IC1518</td>\n",
       "      <td>1209.133333</td>\n",
       "      <td>high</td>\n",
       "    </tr>\n",
       "    <tr>\n",
       "      <th>4</th>\n",
       "      <td>Wednesday</td>\n",
       "      <td>7</td>\n",
       "      <td>27</td>\n",
       "      <td>008813003</td>\n",
       "      <td>000000000</td>\n",
       "      <td>IC1518</td>\n",
       "      <td>1211.016667</td>\n",
       "      <td>high</td>\n",
       "    </tr>\n",
       "  </tbody>\n",
       "</table>\n",
       "</div>"
      ],
      "text/plain": [
       "    week_day  month  day       from         to vehicle  hour_minutes occupancy\n",
       "0  Wednesday      7   27  008813003  000000000  IC1518   1205.850000      high\n",
       "1  Wednesday      7   27  008813003  000000000  IC1518   1206.183333      high\n",
       "2  Wednesday      7   27  008813003  000000000  IC1518   1208.950000      high\n",
       "3  Wednesday      7   27  008813003  000000000  IC1518   1209.133333      high\n",
       "4  Wednesday      7   27  008813003  000000000  IC1518   1211.016667      high"
      ]
     },
     "execution_count": 18,
     "metadata": {},
     "output_type": "execute_result"
    }
   ],
   "source": [
    "x=train.loc[:, ['week_day','month','day','from', 'to','vehicle','hour_minutes','occupancy']]\n",
    "y=test.loc[:, ['week_day','month','day','from', 'to','vehicle','hour_minutes','occupancy']]\n",
    "\n",
    "final=x.append(y, ignore_index=True)\n",
    "final.head()"
   ]
  },
  {
   "cell_type": "code",
   "execution_count": 19,
   "metadata": {
    "collapsed": true
   },
   "outputs": [],
   "source": [
    "line=pd.read_csv('/home/ashwani/Desktop/Python/DataSet/train/KaggleTrainOccupancy-master/line_info.csv')"
   ]
  },
  {
   "cell_type": "code",
   "execution_count": 20,
   "metadata": {},
   "outputs": [
    {
     "data": {
      "text/html": [
       "<div>\n",
       "<style>\n",
       "    .dataframe thead tr:only-child th {\n",
       "        text-align: right;\n",
       "    }\n",
       "\n",
       "    .dataframe thead th {\n",
       "        text-align: left;\n",
       "    }\n",
       "\n",
       "    .dataframe tbody tr th {\n",
       "        vertical-align: top;\n",
       "    }\n",
       "</style>\n",
       "<table border=\"1\" class=\"dataframe\">\n",
       "  <thead>\n",
       "    <tr style=\"text-align: right;\">\n",
       "      <th></th>\n",
       "      <th>Unnamed: 0</th>\n",
       "      <th>Unnamed: 0.1</th>\n",
       "      <th>Unnamed: 0.1.1</th>\n",
       "      <th>vehicle_id</th>\n",
       "      <th>vehicle_type</th>\n",
       "      <th>nr_of_stops</th>\n",
       "      <th>stopping_station_ids</th>\n",
       "    </tr>\n",
       "  </thead>\n",
       "  <tbody>\n",
       "    <tr>\n",
       "      <th>0</th>\n",
       "      <td>0</td>\n",
       "      <td>0</td>\n",
       "      <td>0</td>\n",
       "      <td>EUR9148</td>\n",
       "      <td>EUR</td>\n",
       "      <td>3</td>\n",
       "      <td>['007015400', '008722326', '008814001']</td>\n",
       "    </tr>\n",
       "    <tr>\n",
       "      <th>1</th>\n",
       "      <td>1</td>\n",
       "      <td>1</td>\n",
       "      <td>1</td>\n",
       "      <td>IC1504</td>\n",
       "      <td>IC</td>\n",
       "      <td>15</td>\n",
       "      <td>['008891009', '008891140', '008892007', '00881...</td>\n",
       "    </tr>\n",
       "    <tr>\n",
       "      <th>2</th>\n",
       "      <td>2</td>\n",
       "      <td>2</td>\n",
       "      <td>2</td>\n",
       "      <td>IC1505</td>\n",
       "      <td>IC</td>\n",
       "      <td>16</td>\n",
       "      <td>['008891405', '008891009', '008891140', '00889...</td>\n",
       "    </tr>\n",
       "    <tr>\n",
       "      <th>3</th>\n",
       "      <td>3</td>\n",
       "      <td>3</td>\n",
       "      <td>3</td>\n",
       "      <td>IC1506</td>\n",
       "      <td>IC</td>\n",
       "      <td>16</td>\n",
       "      <td>['008891405', '008891009', '008891140', '00889...</td>\n",
       "    </tr>\n",
       "    <tr>\n",
       "      <th>4</th>\n",
       "      <td>4</td>\n",
       "      <td>4</td>\n",
       "      <td>4</td>\n",
       "      <td>IC1507</td>\n",
       "      <td>IC</td>\n",
       "      <td>16</td>\n",
       "      <td>['008891405', '008891009', '008891140', '00889...</td>\n",
       "    </tr>\n",
       "  </tbody>\n",
       "</table>\n",
       "</div>"
      ],
      "text/plain": [
       "   Unnamed: 0  Unnamed: 0.1  Unnamed: 0.1.1 vehicle_id vehicle_type  \\\n",
       "0           0             0               0    EUR9148          EUR   \n",
       "1           1             1               1     IC1504           IC   \n",
       "2           2             2               2     IC1505           IC   \n",
       "3           3             3               3     IC1506           IC   \n",
       "4           4             4               4     IC1507           IC   \n",
       "\n",
       "   nr_of_stops                               stopping_station_ids  \n",
       "0            3            ['007015400', '008722326', '008814001']  \n",
       "1           15  ['008891009', '008891140', '008892007', '00881...  \n",
       "2           16  ['008891405', '008891009', '008891140', '00889...  \n",
       "3           16  ['008891405', '008891009', '008891140', '00889...  \n",
       "4           16  ['008891405', '008891009', '008891140', '00889...  "
      ]
     },
     "execution_count": 20,
     "metadata": {},
     "output_type": "execute_result"
    }
   ],
   "source": [
    "line.head()"
   ]
  },
  {
   "cell_type": "code",
   "execution_count": 21,
   "metadata": {},
   "outputs": [],
   "source": [
    "final_new = pd.merge(final,line.iloc[:,[3,4,5]], how = 'left', left_on= 'vehicle', right_on= 'vehicle_id')"
   ]
  },
  {
   "cell_type": "code",
   "execution_count": 22,
   "metadata": {},
   "outputs": [
    {
     "data": {
      "text/html": [
       "<div>\n",
       "<style>\n",
       "    .dataframe thead tr:only-child th {\n",
       "        text-align: right;\n",
       "    }\n",
       "\n",
       "    .dataframe thead th {\n",
       "        text-align: left;\n",
       "    }\n",
       "\n",
       "    .dataframe tbody tr th {\n",
       "        vertical-align: top;\n",
       "    }\n",
       "</style>\n",
       "<table border=\"1\" class=\"dataframe\">\n",
       "  <thead>\n",
       "    <tr style=\"text-align: right;\">\n",
       "      <th></th>\n",
       "      <th>week_day</th>\n",
       "      <th>month</th>\n",
       "      <th>day</th>\n",
       "      <th>from</th>\n",
       "      <th>to</th>\n",
       "      <th>vehicle</th>\n",
       "      <th>hour_minutes</th>\n",
       "      <th>occupancy</th>\n",
       "      <th>vehicle_id</th>\n",
       "      <th>vehicle_type</th>\n",
       "      <th>nr_of_stops</th>\n",
       "    </tr>\n",
       "  </thead>\n",
       "  <tbody>\n",
       "    <tr>\n",
       "      <th>0</th>\n",
       "      <td>Wednesday</td>\n",
       "      <td>7</td>\n",
       "      <td>27</td>\n",
       "      <td>008813003</td>\n",
       "      <td>000000000</td>\n",
       "      <td>IC1518</td>\n",
       "      <td>1205.850000</td>\n",
       "      <td>high</td>\n",
       "      <td>IC1518</td>\n",
       "      <td>IC</td>\n",
       "      <td>16.0</td>\n",
       "    </tr>\n",
       "    <tr>\n",
       "      <th>1</th>\n",
       "      <td>Wednesday</td>\n",
       "      <td>7</td>\n",
       "      <td>27</td>\n",
       "      <td>008813003</td>\n",
       "      <td>000000000</td>\n",
       "      <td>IC1518</td>\n",
       "      <td>1206.183333</td>\n",
       "      <td>high</td>\n",
       "      <td>IC1518</td>\n",
       "      <td>IC</td>\n",
       "      <td>16.0</td>\n",
       "    </tr>\n",
       "    <tr>\n",
       "      <th>2</th>\n",
       "      <td>Wednesday</td>\n",
       "      <td>7</td>\n",
       "      <td>27</td>\n",
       "      <td>008813003</td>\n",
       "      <td>000000000</td>\n",
       "      <td>IC1518</td>\n",
       "      <td>1208.950000</td>\n",
       "      <td>high</td>\n",
       "      <td>IC1518</td>\n",
       "      <td>IC</td>\n",
       "      <td>16.0</td>\n",
       "    </tr>\n",
       "    <tr>\n",
       "      <th>3</th>\n",
       "      <td>Wednesday</td>\n",
       "      <td>7</td>\n",
       "      <td>27</td>\n",
       "      <td>008813003</td>\n",
       "      <td>000000000</td>\n",
       "      <td>IC1518</td>\n",
       "      <td>1209.133333</td>\n",
       "      <td>high</td>\n",
       "      <td>IC1518</td>\n",
       "      <td>IC</td>\n",
       "      <td>16.0</td>\n",
       "    </tr>\n",
       "    <tr>\n",
       "      <th>4</th>\n",
       "      <td>Wednesday</td>\n",
       "      <td>7</td>\n",
       "      <td>27</td>\n",
       "      <td>008813003</td>\n",
       "      <td>000000000</td>\n",
       "      <td>IC1518</td>\n",
       "      <td>1211.016667</td>\n",
       "      <td>high</td>\n",
       "      <td>IC1518</td>\n",
       "      <td>IC</td>\n",
       "      <td>16.0</td>\n",
       "    </tr>\n",
       "  </tbody>\n",
       "</table>\n",
       "</div>"
      ],
      "text/plain": [
       "    week_day  month  day       from         to vehicle  hour_minutes  \\\n",
       "0  Wednesday      7   27  008813003  000000000  IC1518   1205.850000   \n",
       "1  Wednesday      7   27  008813003  000000000  IC1518   1206.183333   \n",
       "2  Wednesday      7   27  008813003  000000000  IC1518   1208.950000   \n",
       "3  Wednesday      7   27  008813003  000000000  IC1518   1209.133333   \n",
       "4  Wednesday      7   27  008813003  000000000  IC1518   1211.016667   \n",
       "\n",
       "  occupancy vehicle_id vehicle_type  nr_of_stops  \n",
       "0      high     IC1518           IC         16.0  \n",
       "1      high     IC1518           IC         16.0  \n",
       "2      high     IC1518           IC         16.0  \n",
       "3      high     IC1518           IC         16.0  \n",
       "4      high     IC1518           IC         16.0  "
      ]
     },
     "execution_count": 22,
     "metadata": {},
     "output_type": "execute_result"
    }
   ],
   "source": [
    "final_new.head()"
   ]
  },
  {
   "cell_type": "code",
   "execution_count": 23,
   "metadata": {
    "collapsed": true
   },
   "outputs": [],
   "source": [
    "final_new['vehicle_type']=final_new['vehicle_type'].fillna(final_new['vehicle_type'].dropna().mode()[0])"
   ]
  },
  {
   "cell_type": "code",
   "execution_count": 24,
   "metadata": {},
   "outputs": [
    {
     "data": {
      "text/plain": [
       "IC     2593\n",
       "S       540\n",
       "P       360\n",
       "L       265\n",
       "THA      14\n",
       "ICE       4\n",
       "TRN       1\n",
       "TGV       1\n",
       "EUR       1\n",
       "Name: vehicle_type, dtype: int64"
      ]
     },
     "execution_count": 24,
     "metadata": {},
     "output_type": "execute_result"
    }
   ],
   "source": [
    "final_new.vehicle_type.value_counts()"
   ]
  },
  {
   "cell_type": "code",
   "execution_count": 25,
   "metadata": {
    "collapsed": true
   },
   "outputs": [],
   "source": [
    "final_new=final_new.drop(['vehicle_id'],axis=1)"
   ]
  },
  {
   "cell_type": "code",
   "execution_count": 26,
   "metadata": {},
   "outputs": [
    {
     "data": {
      "text/plain": [
       "week_day         object\n",
       "month             int64\n",
       "day               int64\n",
       "from             object\n",
       "to               object\n",
       "vehicle          object\n",
       "hour_minutes    float64\n",
       "occupancy        object\n",
       "vehicle_type     object\n",
       "nr_of_stops     float64\n",
       "dtype: object"
      ]
     },
     "execution_count": 26,
     "metadata": {},
     "output_type": "execute_result"
    }
   ],
   "source": [
    "final_new.dtypes"
   ]
  },
  {
   "cell_type": "code",
   "execution_count": 27,
   "metadata": {
    "collapsed": true
   },
   "outputs": [],
   "source": [
    "cat=[ 'from', 'to','vehicle', 'occupancy','vehicle_type']\n",
    "for col in cat:\n",
    "    final_new[col]=final_new[col].astype('category')"
   ]
  },
  {
   "cell_type": "code",
   "execution_count": 28,
   "metadata": {
    "collapsed": true
   },
   "outputs": [],
   "source": [
    "from sklearn.preprocessing import LabelEncoder\n",
    "le = LabelEncoder()\n",
    "for col in ['vehicle','week_day','nr_of_stops','vehicle_type']:\n",
    "    final_new[col] = le.fit_transform(final_new[col])"
   ]
  },
  {
   "cell_type": "code",
   "execution_count": 29,
   "metadata": {
    "collapsed": true
   },
   "outputs": [],
   "source": [
    "train=final_new.iloc[0:2250,:]\n",
    "test=final_new.iloc[2250:, [0,1,2,3,4,5,6,8,9]]"
   ]
  },
  {
   "cell_type": "code",
   "execution_count": 30,
   "metadata": {},
   "outputs": [
    {
     "data": {
      "text/plain": [
       "((2250, 10), (1529, 9))"
      ]
     },
     "execution_count": 30,
     "metadata": {},
     "output_type": "execute_result"
    }
   ],
   "source": [
    "train.shape, test.shape"
   ]
  },
  {
   "cell_type": "code",
   "execution_count": 31,
   "metadata": {
    "collapsed": true
   },
   "outputs": [],
   "source": [
    "from sklearn.tree import DecisionTreeClassifier\n",
    "from sklearn import ensemble\n",
    "from sklearn.ensemble import RandomForestClassifier\n",
    "from sklearn.ensemble import GradientBoostingClassifier\n",
    "\n",
    "from sklearn import metrics\n",
    "from sklearn.model_selection import train_test_split"
   ]
  },
  {
   "cell_type": "code",
   "execution_count": 32,
   "metadata": {},
   "outputs": [
    {
     "data": {
      "text/html": [
       "<div>\n",
       "<style>\n",
       "    .dataframe thead tr:only-child th {\n",
       "        text-align: right;\n",
       "    }\n",
       "\n",
       "    .dataframe thead th {\n",
       "        text-align: left;\n",
       "    }\n",
       "\n",
       "    .dataframe tbody tr th {\n",
       "        vertical-align: top;\n",
       "    }\n",
       "</style>\n",
       "<table border=\"1\" class=\"dataframe\">\n",
       "  <thead>\n",
       "    <tr style=\"text-align: right;\">\n",
       "      <th></th>\n",
       "      <th>week_day</th>\n",
       "      <th>month</th>\n",
       "      <th>day</th>\n",
       "      <th>from</th>\n",
       "      <th>to</th>\n",
       "      <th>vehicle</th>\n",
       "      <th>hour_minutes</th>\n",
       "      <th>occupancy</th>\n",
       "      <th>vehicle_type</th>\n",
       "      <th>nr_of_stops</th>\n",
       "    </tr>\n",
       "  </thead>\n",
       "  <tbody>\n",
       "    <tr>\n",
       "      <th>0</th>\n",
       "      <td>6</td>\n",
       "      <td>7</td>\n",
       "      <td>27</td>\n",
       "      <td>008813003</td>\n",
       "      <td>000000000</td>\n",
       "      <td>46</td>\n",
       "      <td>1205.850000</td>\n",
       "      <td>high</td>\n",
       "      <td>1</td>\n",
       "      <td>14</td>\n",
       "    </tr>\n",
       "    <tr>\n",
       "      <th>1</th>\n",
       "      <td>6</td>\n",
       "      <td>7</td>\n",
       "      <td>27</td>\n",
       "      <td>008813003</td>\n",
       "      <td>000000000</td>\n",
       "      <td>46</td>\n",
       "      <td>1206.183333</td>\n",
       "      <td>high</td>\n",
       "      <td>1</td>\n",
       "      <td>14</td>\n",
       "    </tr>\n",
       "    <tr>\n",
       "      <th>2</th>\n",
       "      <td>6</td>\n",
       "      <td>7</td>\n",
       "      <td>27</td>\n",
       "      <td>008813003</td>\n",
       "      <td>000000000</td>\n",
       "      <td>46</td>\n",
       "      <td>1208.950000</td>\n",
       "      <td>high</td>\n",
       "      <td>1</td>\n",
       "      <td>14</td>\n",
       "    </tr>\n",
       "    <tr>\n",
       "      <th>3</th>\n",
       "      <td>6</td>\n",
       "      <td>7</td>\n",
       "      <td>27</td>\n",
       "      <td>008813003</td>\n",
       "      <td>000000000</td>\n",
       "      <td>46</td>\n",
       "      <td>1209.133333</td>\n",
       "      <td>high</td>\n",
       "      <td>1</td>\n",
       "      <td>14</td>\n",
       "    </tr>\n",
       "    <tr>\n",
       "      <th>4</th>\n",
       "      <td>6</td>\n",
       "      <td>7</td>\n",
       "      <td>27</td>\n",
       "      <td>008813003</td>\n",
       "      <td>000000000</td>\n",
       "      <td>46</td>\n",
       "      <td>1211.016667</td>\n",
       "      <td>high</td>\n",
       "      <td>1</td>\n",
       "      <td>14</td>\n",
       "    </tr>\n",
       "  </tbody>\n",
       "</table>\n",
       "</div>"
      ],
      "text/plain": [
       "   week_day  month  day       from         to  vehicle  hour_minutes  \\\n",
       "0         6      7   27  008813003  000000000       46   1205.850000   \n",
       "1         6      7   27  008813003  000000000       46   1206.183333   \n",
       "2         6      7   27  008813003  000000000       46   1208.950000   \n",
       "3         6      7   27  008813003  000000000       46   1209.133333   \n",
       "4         6      7   27  008813003  000000000       46   1211.016667   \n",
       "\n",
       "  occupancy  vehicle_type  nr_of_stops  \n",
       "0      high             1           14  \n",
       "1      high             1           14  \n",
       "2      high             1           14  \n",
       "3      high             1           14  \n",
       "4      high             1           14  "
      ]
     },
     "execution_count": 32,
     "metadata": {},
     "output_type": "execute_result"
    }
   ],
   "source": [
    "train.head()"
   ]
  },
  {
   "cell_type": "code",
   "execution_count": 34,
   "metadata": {
    "collapsed": true
   },
   "outputs": [],
   "source": [
    "X_train, X_test, Y_train,Y_test = train_test_split(train.drop(['occupancy'],axis=1),\n",
    "                                                    train['occupancy'],\n",
    "                                                    test_size =0.3,\n",
    "                                                    random_state = 123)"
   ]
  },
  {
   "cell_type": "code",
   "execution_count": 35,
   "metadata": {},
   "outputs": [
    {
     "data": {
      "text/plain": [
       "((1575, 9), (1575,), (675, 9), (675,))"
      ]
     },
     "execution_count": 35,
     "metadata": {},
     "output_type": "execute_result"
    }
   ],
   "source": [
    "X_train.shape, Y_train.shape, X_test.shape, Y_test.shape"
   ]
  },
  {
   "cell_type": "markdown",
   "metadata": {},
   "source": [
    "### Decesion Tree"
   ]
  },
  {
   "cell_type": "code",
   "execution_count": 36,
   "metadata": {},
   "outputs": [
    {
     "data": {
      "text/plain": [
       "DecisionTreeClassifier(class_weight=None, criterion='gini', max_depth=None,\n",
       "            max_features=None, max_leaf_nodes=None,\n",
       "            min_impurity_split=1e-07, min_samples_leaf=1,\n",
       "            min_samples_split=2, min_weight_fraction_leaf=0.0,\n",
       "            presort=False, random_state=None, splitter='best')"
      ]
     },
     "execution_count": 36,
     "metadata": {},
     "output_type": "execute_result"
    },
    {
     "data": {
      "text/plain": [
       "array([[115,  64,  48],\n",
       "       [ 78, 152,  43],\n",
       "       [ 45,  46,  84]])"
      ]
     },
     "execution_count": 36,
     "metadata": {},
     "output_type": "execute_result"
    },
    {
     "data": {
      "text/plain": [
       "(0.52000000000000002, 0.26965616734792019)"
      ]
     },
     "execution_count": 36,
     "metadata": {},
     "output_type": "execute_result"
    }
   ],
   "source": [
    "tree_model = DecisionTreeClassifier()\n",
    "tree_model.fit(X = X_train, y = Y_train)\n",
    "pred_tree = tree_model.predict(X = X_test)\n",
    "metrics.confusion_matrix(Y_test,pred_tree)\n",
    "metrics.accuracy_score(Y_test,pred_tree), metrics.cohen_kappa_score(Y_test,pred_tree)"
   ]
  },
  {
   "cell_type": "markdown",
   "metadata": {},
   "source": [
    "### Random Forest"
   ]
  },
  {
   "cell_type": "code",
   "execution_count": 37,
   "metadata": {},
   "outputs": [
    {
     "data": {
      "text/plain": [
       "RandomForestClassifier(bootstrap=True, class_weight=None, criterion='gini',\n",
       "            max_depth=None, max_features='auto', max_leaf_nodes=None,\n",
       "            min_impurity_split=1e-07, min_samples_leaf=1,\n",
       "            min_samples_split=2, min_weight_fraction_leaf=0.0,\n",
       "            n_estimators=500, n_jobs=1, oob_score=False, random_state=None,\n",
       "            verbose=0, warm_start=False)"
      ]
     },
     "execution_count": 37,
     "metadata": {},
     "output_type": "execute_result"
    },
    {
     "data": {
      "text/plain": [
       "array([[119,  58,  50],\n",
       "       [ 50, 185,  38],\n",
       "       [ 44,  51,  80]])"
      ]
     },
     "execution_count": 37,
     "metadata": {},
     "output_type": "execute_result"
    },
    {
     "data": {
      "text/plain": [
       "(0.56888888888888889, 0.339996371114068)"
      ]
     },
     "execution_count": 37,
     "metadata": {},
     "output_type": "execute_result"
    }
   ],
   "source": [
    "rand_model = RandomForestClassifier(n_estimators=500)\n",
    "rand_model.fit(X = X_train, y = Y_train)\n",
    "pred_rand = rand_model.predict(X = X_test)\n",
    "metrics.confusion_matrix(Y_test,pred_rand)\n",
    "\n",
    "metrics.accuracy_score(Y_test,pred_rand), metrics.cohen_kappa_score(Y_test,pred_rand),\n"
   ]
  },
  {
   "cell_type": "markdown",
   "metadata": {},
   "source": [
    "### Gradient Boosting"
   ]
  },
  {
   "cell_type": "code",
   "execution_count": 38,
   "metadata": {},
   "outputs": [
    {
     "data": {
      "text/plain": [
       "GradientBoostingClassifier(criterion='friedman_mse', init=None,\n",
       "              learning_rate=0.1, loss='deviance', max_depth=3,\n",
       "              max_features=None, max_leaf_nodes=None,\n",
       "              min_impurity_split=1e-07, min_samples_leaf=1,\n",
       "              min_samples_split=2, min_weight_fraction_leaf=0.0,\n",
       "              n_estimators=100, presort='auto', random_state=None,\n",
       "              subsample=1.0, verbose=0, warm_start=False)"
      ]
     },
     "execution_count": 38,
     "metadata": {},
     "output_type": "execute_result"
    },
    {
     "data": {
      "text/plain": [
       "array([[124,  59,  44],\n",
       "       [ 65, 181,  27],\n",
       "       [ 52,  58,  65]])"
      ]
     },
     "execution_count": 38,
     "metadata": {},
     "output_type": "execute_result"
    },
    {
     "data": {
      "text/plain": [
       "(0.54814814814814816, 0.30392136974073924)"
      ]
     },
     "execution_count": 38,
     "metadata": {},
     "output_type": "execute_result"
    }
   ],
   "source": [
    "\n",
    "grad_model = GradientBoostingClassifier()\n",
    "grad_model.fit(X = X_train, y = Y_train)\n",
    "pred_grad = grad_model.predict(X = X_test)\n",
    "metrics.confusion_matrix(Y_test,pred_grad)\n",
    "metrics.accuracy_score(Y_test,pred_grad), metrics.cohen_kappa_score(Y_test,pred_grad)"
   ]
  },
  {
   "cell_type": "markdown",
   "metadata": {},
   "source": [
    "### Bagging"
   ]
  },
  {
   "cell_type": "code",
   "execution_count": 39,
   "metadata": {},
   "outputs": [
    {
     "data": {
      "text/plain": [
       "BaggingClassifier(base_estimator=None, bootstrap=True,\n",
       "         bootstrap_features=False, max_features=0.5, max_samples=0.6,\n",
       "         n_estimators=700, n_jobs=1, oob_score=False, random_state=None,\n",
       "         verbose=0, warm_start=False)"
      ]
     },
     "execution_count": 39,
     "metadata": {},
     "output_type": "execute_result"
    },
    {
     "data": {
      "text/plain": [
       "array([[131,  60,  36],\n",
       "       [ 51, 191,  31],\n",
       "       [ 37,  65,  73]])"
      ]
     },
     "execution_count": 39,
     "metadata": {},
     "output_type": "execute_result"
    },
    {
     "data": {
      "text/plain": [
       "(0.58518518518518514, 0.35963461903342098)"
      ]
     },
     "execution_count": 39,
     "metadata": {},
     "output_type": "execute_result"
    }
   ],
   "source": [
    "bag_model = ensemble.bagging.BaggingClassifier(n_estimators= 700,  max_features=0.5, max_samples=.6)\n",
    "bag_model.fit(X = X_train, y = Y_train)\n",
    "pred_bag = bag_model.predict(X = X_test)\n",
    "metrics.confusion_matrix(Y_test,pred_bag)\n",
    "metrics.accuracy_score(Y_test,pred_bag), metrics.cohen_kappa_score(Y_test,pred_bag)"
   ]
  },
  {
   "cell_type": "markdown",
   "metadata": {},
   "source": [
    "### SVM"
   ]
  },
  {
   "cell_type": "code",
   "execution_count": 40,
   "metadata": {},
   "outputs": [
    {
     "data": {
      "text/plain": [
       "SVC(C=1.0, cache_size=200, class_weight=None, coef0=0.0,\n",
       "  decision_function_shape=None, degree=3, gamma='auto', kernel='rbf',\n",
       "  max_iter=-1, probability=False, random_state=None, shrinking=True,\n",
       "  tol=0.001, verbose=False)"
      ]
     },
     "execution_count": 40,
     "metadata": {},
     "output_type": "execute_result"
    },
    {
     "data": {
      "text/plain": [
       "array([[ 85, 111,  31],\n",
       "       [ 55, 195,  23],\n",
       "       [ 47,  92,  36]])"
      ]
     },
     "execution_count": 40,
     "metadata": {},
     "output_type": "execute_result"
    },
    {
     "data": {
      "text/plain": [
       "(0.46814814814814815, 0.16084315653872261)"
      ]
     },
     "execution_count": 40,
     "metadata": {},
     "output_type": "execute_result"
    }
   ],
   "source": [
    "from sklearn import svm\n",
    "from sklearn.preprocessing import scale\n",
    "X_train=scale(X_train, axis=0)\n",
    "X_test=scale(X_test, axis=0)\n",
    "svm_model = svm.SVC()\n",
    "svm_model.fit(X = X_train, y = Y_train)\n",
    "pred_svm = svm_model.predict(X_test)\n",
    "metrics.confusion_matrix(Y_test,pred_svm)\n",
    "metrics.accuracy_score(Y_test,pred_svm), metrics.cohen_kappa_score(Y_test,pred_svm)"
   ]
  },
  {
   "cell_type": "markdown",
   "metadata": {},
   "source": [
    "### Here the best result getting through Bagging"
   ]
  },
  {
   "cell_type": "code",
   "execution_count": 41,
   "metadata": {
    "collapsed": true
   },
   "outputs": [],
   "source": [
    "#test=test.loc[:,('date','hour_minutes', 'from', 'to','vehicle')]\n",
    "pred_test=bag_model.predict(test)"
   ]
  },
  {
   "cell_type": "code",
   "execution_count": 42,
   "metadata": {
    "collapsed": true
   },
   "outputs": [],
   "source": [
    "output=pd.DataFrame({'id':range(0,len(pred_test)), 'occupancy':pred_test})\n",
    "output.to_csv('/home/ashwani/Desktop/output.csv', index=False)"
   ]
  }
 ],
 "metadata": {
  "kernelspec": {
   "display_name": "Python 3",
   "language": "python",
   "name": "python3"
  },
  "language_info": {
   "codemirror_mode": {
    "name": "ipython",
    "version": 3
   },
   "file_extension": ".py",
   "mimetype": "text/x-python",
   "name": "python",
   "nbconvert_exporter": "python",
   "pygments_lexer": "ipython3",
   "version": "3.6.1"
  }
 },
 "nbformat": 4,
 "nbformat_minor": 2
}
